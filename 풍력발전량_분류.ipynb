{
 "cells": [
  {
   "cell_type": "code",
   "execution_count": 1,
   "metadata": {},
   "outputs": [],
   "source": [
    "import pandas as pd\n",
    "import numpy as np\n",
    "import matplotlib.pyplot as plt\n",
    "import seaborn as sns\n",
    "from sklearn.model_selection import train_test_split\n",
    "from sklearn.preprocessing import StandardScaler\n",
    "from datetime import datetime"
   ]
  },
  {
   "cell_type": "code",
   "execution_count": 2,
   "metadata": {},
   "outputs": [],
   "source": [
    "train = pd.read_csv('train.csv')\n",
    "test = pd.read_csv(\"test.csv\")"
   ]
  },
  {
   "cell_type": "code",
   "execution_count": 3,
   "metadata": {},
   "outputs": [
    {
     "data": {
      "text/html": [
       "<div>\n",
       "<style scoped>\n",
       "    .dataframe tbody tr th:only-of-type {\n",
       "        vertical-align: middle;\n",
       "    }\n",
       "\n",
       "    .dataframe tbody tr th {\n",
       "        vertical-align: top;\n",
       "    }\n",
       "\n",
       "    .dataframe thead th {\n",
       "        text-align: right;\n",
       "    }\n",
       "</style>\n",
       "<table border=\"1\" class=\"dataframe\">\n",
       "  <thead>\n",
       "    <tr style=\"text-align: right;\">\n",
       "      <th></th>\n",
       "      <th>tracking_id</th>\n",
       "      <th>datetime</th>\n",
       "      <th>wind_speed(m/s)</th>\n",
       "      <th>atmospheric_temperature(°C)</th>\n",
       "      <th>shaft_temperature(°C)</th>\n",
       "      <th>blades_angle(°)</th>\n",
       "      <th>gearbox_temperature(°C)</th>\n",
       "      <th>engine_temperature(°C)</th>\n",
       "      <th>motor_torque(N-m)</th>\n",
       "      <th>generator_temperature(°C)</th>\n",
       "      <th>...</th>\n",
       "      <th>windmill_body_temperature(°C)</th>\n",
       "      <th>wind_direction(°)</th>\n",
       "      <th>resistance(ohm)</th>\n",
       "      <th>rotor_torque(N-m)</th>\n",
       "      <th>turbine_status</th>\n",
       "      <th>cloud_level</th>\n",
       "      <th>blade_length(m)</th>\n",
       "      <th>blade_breadth(m)</th>\n",
       "      <th>windmill_height(m)</th>\n",
       "      <th>windmill_generated_power(kW/h)</th>\n",
       "    </tr>\n",
       "  </thead>\n",
       "  <tbody>\n",
       "    <tr>\n",
       "      <th>0</th>\n",
       "      <td>WM_33725</td>\n",
       "      <td>2019-08-04 14:33:20</td>\n",
       "      <td>94.820023</td>\n",
       "      <td>-99.000000</td>\n",
       "      <td>41.723019</td>\n",
       "      <td>-0.903423</td>\n",
       "      <td>82.410573</td>\n",
       "      <td>42.523015</td>\n",
       "      <td>2563.124522</td>\n",
       "      <td>76.665560</td>\n",
       "      <td>...</td>\n",
       "      <td>NaN</td>\n",
       "      <td>239.836388</td>\n",
       "      <td>2730.310605</td>\n",
       "      <td>42.084666</td>\n",
       "      <td>BA</td>\n",
       "      <td>Medium</td>\n",
       "      <td>2.217542</td>\n",
       "      <td>0.314065</td>\n",
       "      <td>24.281689</td>\n",
       "      <td>6.766521</td>\n",
       "    </tr>\n",
       "    <tr>\n",
       "      <th>1</th>\n",
       "      <td>WM_698</td>\n",
       "      <td>2018-11-05 10:13:20</td>\n",
       "      <td>241.832734</td>\n",
       "      <td>27.764785</td>\n",
       "      <td>-99.000000</td>\n",
       "      <td>-99.000000</td>\n",
       "      <td>44.104919</td>\n",
       "      <td>46.258870</td>\n",
       "      <td>2372.384119</td>\n",
       "      <td>78.129803</td>\n",
       "      <td>...</td>\n",
       "      <td>NaN</td>\n",
       "      <td>337.944723</td>\n",
       "      <td>1780.207200</td>\n",
       "      <td>107.888643</td>\n",
       "      <td>A2</td>\n",
       "      <td>Medium</td>\n",
       "      <td>4.210346</td>\n",
       "      <td>0.448494</td>\n",
       "      <td>27.262139</td>\n",
       "      <td>5.966275</td>\n",
       "    </tr>\n",
       "    <tr>\n",
       "      <th>2</th>\n",
       "      <td>WM_39146</td>\n",
       "      <td>2019-09-14 14:03:20</td>\n",
       "      <td>95.484724</td>\n",
       "      <td>NaN</td>\n",
       "      <td>41.855473</td>\n",
       "      <td>12.652763</td>\n",
       "      <td>42.322098</td>\n",
       "      <td>42.878552</td>\n",
       "      <td>1657.169646</td>\n",
       "      <td>67.654469</td>\n",
       "      <td>...</td>\n",
       "      <td>45.033197</td>\n",
       "      <td>227.850294</td>\n",
       "      <td>1666.049900</td>\n",
       "      <td>-42.931459</td>\n",
       "      <td>ABC</td>\n",
       "      <td>Medium</td>\n",
       "      <td>2.719475</td>\n",
       "      <td>0.302321</td>\n",
       "      <td>27.366127</td>\n",
       "      <td>2.874342</td>\n",
       "    </tr>\n",
       "    <tr>\n",
       "      <th>3</th>\n",
       "      <td>WM_6757</td>\n",
       "      <td>2018-12-25 15:33:20</td>\n",
       "      <td>238.819424</td>\n",
       "      <td>-99.000000</td>\n",
       "      <td>45.443914</td>\n",
       "      <td>15.115323</td>\n",
       "      <td>44.759643</td>\n",
       "      <td>47.282101</td>\n",
       "      <td>2888.134079</td>\n",
       "      <td>95.389974</td>\n",
       "      <td>...</td>\n",
       "      <td>44.827154</td>\n",
       "      <td>492.081520</td>\n",
       "      <td>1964.502895</td>\n",
       "      <td>42.744596</td>\n",
       "      <td>ABC</td>\n",
       "      <td>NaN</td>\n",
       "      <td>4.857385</td>\n",
       "      <td>0.367140</td>\n",
       "      <td>24.287767</td>\n",
       "      <td>14.851089</td>\n",
       "    </tr>\n",
       "    <tr>\n",
       "      <th>4</th>\n",
       "      <td>WM_21521</td>\n",
       "      <td>2019-05-04 03:13:20</td>\n",
       "      <td>10.722890</td>\n",
       "      <td>NaN</td>\n",
       "      <td>41.981183</td>\n",
       "      <td>1.715696</td>\n",
       "      <td>-17.616459</td>\n",
       "      <td>43.469852</td>\n",
       "      <td>781.695419</td>\n",
       "      <td>37.423065</td>\n",
       "      <td>...</td>\n",
       "      <td>-99.000000</td>\n",
       "      <td>259.274601</td>\n",
       "      <td>1177.516152</td>\n",
       "      <td>13.387289</td>\n",
       "      <td>AAA</td>\n",
       "      <td>Medium</td>\n",
       "      <td>NaN</td>\n",
       "      <td>0.453374</td>\n",
       "      <td>27.971650</td>\n",
       "      <td>3.519074</td>\n",
       "    </tr>\n",
       "  </tbody>\n",
       "</table>\n",
       "<p>5 rows × 22 columns</p>\n",
       "</div>"
      ],
      "text/plain": [
       "  tracking_id             datetime  wind_speed(m/s)  \\\n",
       "0    WM_33725  2019-08-04 14:33:20        94.820023   \n",
       "1      WM_698  2018-11-05 10:13:20       241.832734   \n",
       "2    WM_39146  2019-09-14 14:03:20        95.484724   \n",
       "3     WM_6757  2018-12-25 15:33:20       238.819424   \n",
       "4    WM_21521  2019-05-04 03:13:20        10.722890   \n",
       "\n",
       "   atmospheric_temperature(°C)  shaft_temperature(°C)  blades_angle(°)  \\\n",
       "0                   -99.000000              41.723019        -0.903423   \n",
       "1                    27.764785             -99.000000       -99.000000   \n",
       "2                          NaN              41.855473        12.652763   \n",
       "3                   -99.000000              45.443914        15.115323   \n",
       "4                          NaN              41.981183         1.715696   \n",
       "\n",
       "   gearbox_temperature(°C)  engine_temperature(°C)  motor_torque(N-m)  \\\n",
       "0                82.410573               42.523015        2563.124522   \n",
       "1                44.104919               46.258870        2372.384119   \n",
       "2                42.322098               42.878552        1657.169646   \n",
       "3                44.759643               47.282101        2888.134079   \n",
       "4               -17.616459               43.469852         781.695419   \n",
       "\n",
       "   generator_temperature(°C)  ...  windmill_body_temperature(°C)  \\\n",
       "0                  76.665560  ...                            NaN   \n",
       "1                  78.129803  ...                            NaN   \n",
       "2                  67.654469  ...                      45.033197   \n",
       "3                  95.389974  ...                      44.827154   \n",
       "4                  37.423065  ...                     -99.000000   \n",
       "\n",
       "   wind_direction(°)  resistance(ohm)  rotor_torque(N-m)  turbine_status  \\\n",
       "0         239.836388      2730.310605          42.084666              BA   \n",
       "1         337.944723      1780.207200         107.888643              A2   \n",
       "2         227.850294      1666.049900         -42.931459             ABC   \n",
       "3         492.081520      1964.502895          42.744596             ABC   \n",
       "4         259.274601      1177.516152          13.387289             AAA   \n",
       "\n",
       "   cloud_level blade_length(m) blade_breadth(m)  windmill_height(m)  \\\n",
       "0       Medium        2.217542         0.314065           24.281689   \n",
       "1       Medium        4.210346         0.448494           27.262139   \n",
       "2       Medium        2.719475         0.302321           27.366127   \n",
       "3          NaN        4.857385         0.367140           24.287767   \n",
       "4       Medium             NaN         0.453374           27.971650   \n",
       "\n",
       "   windmill_generated_power(kW/h)  \n",
       "0                        6.766521  \n",
       "1                        5.966275  \n",
       "2                        2.874342  \n",
       "3                       14.851089  \n",
       "4                        3.519074  \n",
       "\n",
       "[5 rows x 22 columns]"
      ]
     },
     "execution_count": 3,
     "metadata": {},
     "output_type": "execute_result"
    }
   ],
   "source": [
    "train.head()"
   ]
  },
  {
   "cell_type": "code",
   "execution_count": 4,
   "metadata": {},
   "outputs": [
    {
     "data": {
      "text/html": [
       "<div>\n",
       "<style scoped>\n",
       "    .dataframe tbody tr th:only-of-type {\n",
       "        vertical-align: middle;\n",
       "    }\n",
       "\n",
       "    .dataframe tbody tr th {\n",
       "        vertical-align: top;\n",
       "    }\n",
       "\n",
       "    .dataframe thead th {\n",
       "        text-align: right;\n",
       "    }\n",
       "</style>\n",
       "<table border=\"1\" class=\"dataframe\">\n",
       "  <thead>\n",
       "    <tr style=\"text-align: right;\">\n",
       "      <th></th>\n",
       "      <th>tracking_id</th>\n",
       "      <th>datetime</th>\n",
       "      <th>wind_speed(m/s)</th>\n",
       "      <th>atmospheric_temperature(°C)</th>\n",
       "      <th>shaft_temperature(°C)</th>\n",
       "      <th>blades_angle(°)</th>\n",
       "      <th>gearbox_temperature(°C)</th>\n",
       "      <th>engine_temperature(°C)</th>\n",
       "      <th>motor_torque(N-m)</th>\n",
       "      <th>generator_temperature(°C)</th>\n",
       "      <th>...</th>\n",
       "      <th>area_temperature(°C)</th>\n",
       "      <th>windmill_body_temperature(°C)</th>\n",
       "      <th>wind_direction(°)</th>\n",
       "      <th>resistance(ohm)</th>\n",
       "      <th>rotor_torque(N-m)</th>\n",
       "      <th>turbine_status</th>\n",
       "      <th>cloud_level</th>\n",
       "      <th>blade_length(m)</th>\n",
       "      <th>blade_breadth(m)</th>\n",
       "      <th>windmill_height(m)</th>\n",
       "    </tr>\n",
       "  </thead>\n",
       "  <tbody>\n",
       "    <tr>\n",
       "      <th>0</th>\n",
       "      <td>WM_19817</td>\n",
       "      <td>2019-04-17 08:53:20</td>\n",
       "      <td>94.324266</td>\n",
       "      <td>17.641186</td>\n",
       "      <td>89.714193</td>\n",
       "      <td>51.146788</td>\n",
       "      <td>40.460560</td>\n",
       "      <td>39.594734</td>\n",
       "      <td>1073.202715</td>\n",
       "      <td>66.830037</td>\n",
       "      <td>...</td>\n",
       "      <td>24.004812</td>\n",
       "      <td>43.756693</td>\n",
       "      <td>445.976992</td>\n",
       "      <td>1664.222023</td>\n",
       "      <td>21.912243</td>\n",
       "      <td>BA</td>\n",
       "      <td>Medium</td>\n",
       "      <td>3.185837</td>\n",
       "      <td>0.403965</td>\n",
       "      <td>25.572431</td>\n",
       "    </tr>\n",
       "    <tr>\n",
       "      <th>1</th>\n",
       "      <td>WM_18723</td>\n",
       "      <td>2019-03-30 07:43:20</td>\n",
       "      <td>10.088870</td>\n",
       "      <td>13.978119</td>\n",
       "      <td>43.272846</td>\n",
       "      <td>46.516394</td>\n",
       "      <td>40.027788</td>\n",
       "      <td>41.176860</td>\n",
       "      <td>517.436430</td>\n",
       "      <td>37.284163</td>\n",
       "      <td>...</td>\n",
       "      <td>29.431813</td>\n",
       "      <td>42.728174</td>\n",
       "      <td>499.595287</td>\n",
       "      <td>1165.111992</td>\n",
       "      <td>-35.050093</td>\n",
       "      <td>A</td>\n",
       "      <td>Medium</td>\n",
       "      <td>3.016603</td>\n",
       "      <td>0.444755</td>\n",
       "      <td>24.371823</td>\n",
       "    </tr>\n",
       "    <tr>\n",
       "      <th>2</th>\n",
       "      <td>WM_34552</td>\n",
       "      <td>2019-08-10 11:33:20</td>\n",
       "      <td>347.152090</td>\n",
       "      <td>31.423035</td>\n",
       "      <td>41.076640</td>\n",
       "      <td>26.931602</td>\n",
       "      <td>43.109122</td>\n",
       "      <td>43.439556</td>\n",
       "      <td>1480.716492</td>\n",
       "      <td>70.010762</td>\n",
       "      <td>...</td>\n",
       "      <td>29.924235</td>\n",
       "      <td>43.256122</td>\n",
       "      <td>245.432231</td>\n",
       "      <td>1667.720491</td>\n",
       "      <td>27.195302</td>\n",
       "      <td>B2</td>\n",
       "      <td>Medium</td>\n",
       "      <td>2.611941</td>\n",
       "      <td>0.387368</td>\n",
       "      <td>27.654677</td>\n",
       "    </tr>\n",
       "    <tr>\n",
       "      <th>3</th>\n",
       "      <td>WM_28570</td>\n",
       "      <td>2019-06-26 03:53:20</td>\n",
       "      <td>24.471997</td>\n",
       "      <td>-99.000000</td>\n",
       "      <td>14.375078</td>\n",
       "      <td>66.513953</td>\n",
       "      <td>13.741253</td>\n",
       "      <td>15.577472</td>\n",
       "      <td>887.979475</td>\n",
       "      <td>41.445258</td>\n",
       "      <td>...</td>\n",
       "      <td>23.886434</td>\n",
       "      <td>13.501595</td>\n",
       "      <td>NaN</td>\n",
       "      <td>1329.744740</td>\n",
       "      <td>15.245757</td>\n",
       "      <td>BBB</td>\n",
       "      <td>Low</td>\n",
       "      <td>2.866805</td>\n",
       "      <td>0.450478</td>\n",
       "      <td>24.189426</td>\n",
       "    </tr>\n",
       "    <tr>\n",
       "      <th>4</th>\n",
       "      <td>WM_36934</td>\n",
       "      <td>2019-08-27 16:43:20</td>\n",
       "      <td>96.997026</td>\n",
       "      <td>33.281836</td>\n",
       "      <td>41.405192</td>\n",
       "      <td>1.843112</td>\n",
       "      <td>121.572907</td>\n",
       "      <td>43.934587</td>\n",
       "      <td>2053.916354</td>\n",
       "      <td>68.007787</td>\n",
       "      <td>...</td>\n",
       "      <td>35.906889</td>\n",
       "      <td>-99.000000</td>\n",
       "      <td>442.425744</td>\n",
       "      <td>691.408996</td>\n",
       "      <td>34.257024</td>\n",
       "      <td>A</td>\n",
       "      <td>Low</td>\n",
       "      <td>3.549672</td>\n",
       "      <td>0.368355</td>\n",
       "      <td>4.885440</td>\n",
       "    </tr>\n",
       "  </tbody>\n",
       "</table>\n",
       "<p>5 rows × 21 columns</p>\n",
       "</div>"
      ],
      "text/plain": [
       "  tracking_id             datetime  wind_speed(m/s)  \\\n",
       "0    WM_19817  2019-04-17 08:53:20        94.324266   \n",
       "1    WM_18723  2019-03-30 07:43:20        10.088870   \n",
       "2    WM_34552  2019-08-10 11:33:20       347.152090   \n",
       "3    WM_28570  2019-06-26 03:53:20        24.471997   \n",
       "4    WM_36934  2019-08-27 16:43:20        96.997026   \n",
       "\n",
       "   atmospheric_temperature(°C)  shaft_temperature(°C)  blades_angle(°)  \\\n",
       "0                    17.641186              89.714193        51.146788   \n",
       "1                    13.978119              43.272846        46.516394   \n",
       "2                    31.423035              41.076640        26.931602   \n",
       "3                   -99.000000              14.375078        66.513953   \n",
       "4                    33.281836              41.405192         1.843112   \n",
       "\n",
       "   gearbox_temperature(°C)  engine_temperature(°C)  motor_torque(N-m)  \\\n",
       "0                40.460560               39.594734        1073.202715   \n",
       "1                40.027788               41.176860         517.436430   \n",
       "2                43.109122               43.439556        1480.716492   \n",
       "3                13.741253               15.577472         887.979475   \n",
       "4               121.572907               43.934587        2053.916354   \n",
       "\n",
       "   generator_temperature(°C)  ...  area_temperature(°C)  \\\n",
       "0                  66.830037  ...             24.004812   \n",
       "1                  37.284163  ...             29.431813   \n",
       "2                  70.010762  ...             29.924235   \n",
       "3                  41.445258  ...             23.886434   \n",
       "4                  68.007787  ...             35.906889   \n",
       "\n",
       "   windmill_body_temperature(°C)  wind_direction(°)  resistance(ohm)  \\\n",
       "0                      43.756693         445.976992      1664.222023   \n",
       "1                      42.728174         499.595287      1165.111992   \n",
       "2                      43.256122         245.432231      1667.720491   \n",
       "3                      13.501595                NaN      1329.744740   \n",
       "4                     -99.000000         442.425744       691.408996   \n",
       "\n",
       "   rotor_torque(N-m)  turbine_status cloud_level blade_length(m)  \\\n",
       "0          21.912243              BA      Medium        3.185837   \n",
       "1         -35.050093               A      Medium        3.016603   \n",
       "2          27.195302              B2      Medium        2.611941   \n",
       "3          15.245757             BBB         Low        2.866805   \n",
       "4          34.257024               A         Low        3.549672   \n",
       "\n",
       "   blade_breadth(m)  windmill_height(m)  \n",
       "0          0.403965           25.572431  \n",
       "1          0.444755           24.371823  \n",
       "2          0.387368           27.654677  \n",
       "3          0.450478           24.189426  \n",
       "4          0.368355            4.885440  \n",
       "\n",
       "[5 rows x 21 columns]"
      ]
     },
     "execution_count": 4,
     "metadata": {},
     "output_type": "execute_result"
    }
   ],
   "source": [
    "test.head()"
   ]
  },
  {
   "cell_type": "code",
   "execution_count": 5,
   "metadata": {},
   "outputs": [],
   "source": [
    "train.columns = ['tracking_id', 'datetime', 'wind_speed', 'atmospheric_temperature', 'shaft_temperature', 'blades_angle',\n",
    "                'gearbox_temperature', 'engine_temperature', 'motor_torque', 'generator_temperature', 'atmospheric_pressure',\n",
    "                'area_temperature', 'windmill_body_temperature', 'wind_direction', 'resistance', 'rotor_torque',\n",
    "                'turbine_status', 'cloud_level', 'blade_length', 'blade_breadth', 'windmill_height', 'windmill_generated_power']"
   ]
  },
  {
   "cell_type": "markdown",
   "metadata": {},
   "source": [
    "# 데이터 확인, 결측치 처리, 기초통계하기"
   ]
  },
  {
   "cell_type": "code",
   "execution_count": 6,
   "metadata": {},
   "outputs": [
    {
     "data": {
      "text/plain": [
       "(28200, 22)"
      ]
     },
     "execution_count": 6,
     "metadata": {},
     "output_type": "execute_result"
    }
   ],
   "source": [
    "train.shape"
   ]
  },
  {
   "cell_type": "code",
   "execution_count": 7,
   "metadata": {},
   "outputs": [
    {
     "data": {
      "text/plain": [
       "tracking_id                     0\n",
       "datetime                        0\n",
       "wind_speed                    273\n",
       "atmospheric_temperature      3450\n",
       "shaft_temperature               2\n",
       "blades_angle                  216\n",
       "gearbox_temperature             1\n",
       "engine_temperature             12\n",
       "motor_torque                   24\n",
       "generator_temperature          12\n",
       "atmospheric_pressure         2707\n",
       "area_temperature                0\n",
       "windmill_body_temperature    2363\n",
       "wind_direction               5103\n",
       "resistance                      1\n",
       "rotor_torque                  572\n",
       "turbine_status               1759\n",
       "cloud_level                   276\n",
       "blade_length                 5093\n",
       "blade_breadth                   0\n",
       "windmill_height               543\n",
       "windmill_generated_power      207\n",
       "dtype: int64"
      ]
     },
     "execution_count": 7,
     "metadata": {},
     "output_type": "execute_result"
    }
   ],
   "source": [
    "train.isna().sum()"
   ]
  },
  {
   "cell_type": "code",
   "execution_count": 8,
   "metadata": {},
   "outputs": [
    {
     "data": {
      "text/plain": [
       "tracking_id                         0\n",
       "datetime                            0\n",
       "wind_speed(m/s)                   126\n",
       "atmospheric_temperature(°C)      1427\n",
       "shaft_temperature(°C)               1\n",
       "blades_angle(°)                   106\n",
       "gearbox_temperature(°C)             1\n",
       "engine_temperature(°C)              5\n",
       "motor_torque(N-m)                  11\n",
       "generator_temperature(°C)           5\n",
       "atmospheric_pressure(Pascal)     1151\n",
       "area_temperature(°C)                1\n",
       "windmill_body_temperature(°C)     926\n",
       "wind_direction(°)                2160\n",
       "resistance(ohm)                     0\n",
       "rotor_torque(N-m)                 281\n",
       "turbine_status                    797\n",
       "cloud_level                       125\n",
       "blade_length(m)                  2114\n",
       "blade_breadth(m)                    0\n",
       "windmill_height(m)                255\n",
       "dtype: int64"
      ]
     },
     "execution_count": 8,
     "metadata": {},
     "output_type": "execute_result"
    }
   ],
   "source": [
    "test.isna().sum()"
   ]
  },
  {
   "cell_type": "code",
   "execution_count": 9,
   "metadata": {
    "scrolled": true
   },
   "outputs": [
    {
     "name": "stdout",
     "output_type": "stream",
     "text": [
      "<class 'pandas.core.frame.DataFrame'>\n",
      "RangeIndex: 28200 entries, 0 to 28199\n",
      "Data columns (total 22 columns):\n",
      " #   Column                     Non-Null Count  Dtype  \n",
      "---  ------                     --------------  -----  \n",
      " 0   tracking_id                28200 non-null  object \n",
      " 1   datetime                   28200 non-null  object \n",
      " 2   wind_speed                 27927 non-null  float64\n",
      " 3   atmospheric_temperature    24750 non-null  float64\n",
      " 4   shaft_temperature          28198 non-null  float64\n",
      " 5   blades_angle               27984 non-null  float64\n",
      " 6   gearbox_temperature        28199 non-null  float64\n",
      " 7   engine_temperature         28188 non-null  float64\n",
      " 8   motor_torque               28176 non-null  float64\n",
      " 9   generator_temperature      28188 non-null  float64\n",
      " 10  atmospheric_pressure       25493 non-null  float64\n",
      " 11  area_temperature           28200 non-null  float64\n",
      " 12  windmill_body_temperature  25837 non-null  float64\n",
      " 13  wind_direction             23097 non-null  float64\n",
      " 14  resistance                 28199 non-null  float64\n",
      " 15  rotor_torque               27628 non-null  float64\n",
      " 16  turbine_status             26441 non-null  object \n",
      " 17  cloud_level                27924 non-null  object \n",
      " 18  blade_length               23107 non-null  float64\n",
      " 19  blade_breadth              28200 non-null  float64\n",
      " 20  windmill_height            27657 non-null  float64\n",
      " 21  windmill_generated_power   27993 non-null  float64\n",
      "dtypes: float64(18), object(4)\n",
      "memory usage: 4.7+ MB\n"
     ]
    }
   ],
   "source": [
    "train.info()"
   ]
  },
  {
   "cell_type": "code",
   "execution_count": 10,
   "metadata": {},
   "outputs": [
    {
     "data": {
      "text/html": [
       "<div>\n",
       "<style scoped>\n",
       "    .dataframe tbody tr th:only-of-type {\n",
       "        vertical-align: middle;\n",
       "    }\n",
       "\n",
       "    .dataframe tbody tr th {\n",
       "        vertical-align: top;\n",
       "    }\n",
       "\n",
       "    .dataframe thead th {\n",
       "        text-align: right;\n",
       "    }\n",
       "</style>\n",
       "<table border=\"1\" class=\"dataframe\">\n",
       "  <thead>\n",
       "    <tr style=\"text-align: right;\">\n",
       "      <th></th>\n",
       "      <th>wind_speed</th>\n",
       "      <th>atmospheric_temperature</th>\n",
       "      <th>shaft_temperature</th>\n",
       "      <th>blades_angle</th>\n",
       "      <th>gearbox_temperature</th>\n",
       "      <th>engine_temperature</th>\n",
       "      <th>motor_torque</th>\n",
       "      <th>generator_temperature</th>\n",
       "      <th>atmospheric_pressure</th>\n",
       "      <th>area_temperature</th>\n",
       "      <th>windmill_body_temperature</th>\n",
       "      <th>wind_direction</th>\n",
       "      <th>resistance</th>\n",
       "      <th>rotor_torque</th>\n",
       "      <th>blade_length</th>\n",
       "      <th>blade_breadth</th>\n",
       "      <th>windmill_height</th>\n",
       "      <th>windmill_generated_power</th>\n",
       "    </tr>\n",
       "  </thead>\n",
       "  <tbody>\n",
       "    <tr>\n",
       "      <th>count</th>\n",
       "      <td>27927.000000</td>\n",
       "      <td>24750.000000</td>\n",
       "      <td>28198.000000</td>\n",
       "      <td>27984.000000</td>\n",
       "      <td>28199.000000</td>\n",
       "      <td>28188.000000</td>\n",
       "      <td>28176.000000</td>\n",
       "      <td>28188.000000</td>\n",
       "      <td>2.549300e+04</td>\n",
       "      <td>28200.000000</td>\n",
       "      <td>25837.000000</td>\n",
       "      <td>23097.000000</td>\n",
       "      <td>28199.000000</td>\n",
       "      <td>27628.000000</td>\n",
       "      <td>23107.000000</td>\n",
       "      <td>28200.000000</td>\n",
       "      <td>27657.000000</td>\n",
       "      <td>27993.000000</td>\n",
       "    </tr>\n",
       "    <tr>\n",
       "      <th>mean</th>\n",
       "      <td>69.037071</td>\n",
       "      <td>0.383727</td>\n",
       "      <td>40.085387</td>\n",
       "      <td>-9.654038</td>\n",
       "      <td>41.027755</td>\n",
       "      <td>42.614239</td>\n",
       "      <td>1710.819803</td>\n",
       "      <td>65.027857</td>\n",
       "      <td>5.318506e+04</td>\n",
       "      <td>32.735091</td>\n",
       "      <td>20.799761</td>\n",
       "      <td>306.888883</td>\n",
       "      <td>1575.560011</td>\n",
       "      <td>25.849894</td>\n",
       "      <td>2.254034</td>\n",
       "      <td>0.397249</td>\n",
       "      <td>25.887052</td>\n",
       "      <td>6.130529</td>\n",
       "    </tr>\n",
       "    <tr>\n",
       "      <th>std</th>\n",
       "      <td>76.275645</td>\n",
       "      <td>44.278534</td>\n",
       "      <td>27.204430</td>\n",
       "      <td>47.918161</td>\n",
       "      <td>43.663605</td>\n",
       "      <td>6.124546</td>\n",
       "      <td>827.205537</td>\n",
       "      <td>19.816499</td>\n",
       "      <td>1.875036e+05</td>\n",
       "      <td>7.703391</td>\n",
       "      <td>54.356431</td>\n",
       "      <td>134.055900</td>\n",
       "      <td>483.326394</td>\n",
       "      <td>32.423943</td>\n",
       "      <td>11.275602</td>\n",
       "      <td>0.061158</td>\n",
       "      <td>7.773609</td>\n",
       "      <td>2.697520</td>\n",
       "    </tr>\n",
       "    <tr>\n",
       "      <th>min</th>\n",
       "      <td>-496.211029</td>\n",
       "      <td>-99.000000</td>\n",
       "      <td>-99.000000</td>\n",
       "      <td>-146.259543</td>\n",
       "      <td>-244.974098</td>\n",
       "      <td>3.167151</td>\n",
       "      <td>500.000000</td>\n",
       "      <td>33.893779</td>\n",
       "      <td>-1.188624e+06</td>\n",
       "      <td>-30.000000</td>\n",
       "      <td>-999.000000</td>\n",
       "      <td>0.000000</td>\n",
       "      <td>-1005.222988</td>\n",
       "      <td>-136.732217</td>\n",
       "      <td>-99.000000</td>\n",
       "      <td>0.200111</td>\n",
       "      <td>-30.295253</td>\n",
       "      <td>0.962305</td>\n",
       "    </tr>\n",
       "    <tr>\n",
       "      <th>25%</th>\n",
       "      <td>20.883502</td>\n",
       "      <td>7.948900</td>\n",
       "      <td>41.633238</td>\n",
       "      <td>-1.197652</td>\n",
       "      <td>40.557952</td>\n",
       "      <td>41.911365</td>\n",
       "      <td>870.340239</td>\n",
       "      <td>41.198509</td>\n",
       "      <td>1.679492e+04</td>\n",
       "      <td>27.311644</td>\n",
       "      <td>40.448386</td>\n",
       "      <td>238.627752</td>\n",
       "      <td>1268.134043</td>\n",
       "      <td>13.722808</td>\n",
       "      <td>2.544859</td>\n",
       "      <td>0.347445</td>\n",
       "      <td>24.447658</td>\n",
       "      <td>4.059505</td>\n",
       "    </tr>\n",
       "    <tr>\n",
       "      <th>50%</th>\n",
       "      <td>93.302129</td>\n",
       "      <td>16.102410</td>\n",
       "      <td>43.686082</td>\n",
       "      <td>-0.495608</td>\n",
       "      <td>43.221735</td>\n",
       "      <td>43.525297</td>\n",
       "      <td>2031.849540</td>\n",
       "      <td>70.729533</td>\n",
       "      <td>1.819113e+04</td>\n",
       "      <td>32.605195</td>\n",
       "      <td>42.786832</td>\n",
       "      <td>271.427656</td>\n",
       "      <td>1678.238404</td>\n",
       "      <td>32.977192</td>\n",
       "      <td>3.453333</td>\n",
       "      <td>0.398591</td>\n",
       "      <td>25.957739</td>\n",
       "      <td>5.764710</td>\n",
       "    </tr>\n",
       "    <tr>\n",
       "      <th>75%</th>\n",
       "      <td>95.268058</td>\n",
       "      <td>23.687285</td>\n",
       "      <td>45.673685</td>\n",
       "      <td>5.495030</td>\n",
       "      <td>45.879425</td>\n",
       "      <td>45.174246</td>\n",
       "      <td>2462.585729</td>\n",
       "      <td>78.945849</td>\n",
       "      <td>1.181133e+05</td>\n",
       "      <td>38.232387</td>\n",
       "      <td>44.494543</td>\n",
       "      <td>404.153517</td>\n",
       "      <td>1829.054007</td>\n",
       "      <td>41.550520</td>\n",
       "      <td>4.357862</td>\n",
       "      <td>0.449354</td>\n",
       "      <td>27.477854</td>\n",
       "      <td>7.947195</td>\n",
       "    </tr>\n",
       "    <tr>\n",
       "      <th>max</th>\n",
       "      <td>601.455670</td>\n",
       "      <td>80.217444</td>\n",
       "      <td>169.820455</td>\n",
       "      <td>165.932123</td>\n",
       "      <td>999.000000</td>\n",
       "      <td>50.000000</td>\n",
       "      <td>3000.000000</td>\n",
       "      <td>100.000000</td>\n",
       "      <td>1.272552e+06</td>\n",
       "      <td>55.000000</td>\n",
       "      <td>323.000000</td>\n",
       "      <td>569.966479</td>\n",
       "      <td>4693.481933</td>\n",
       "      <td>236.883264</td>\n",
       "      <td>18.209800</td>\n",
       "      <td>0.499975</td>\n",
       "      <td>78.351335</td>\n",
       "      <td>20.175358</td>\n",
       "    </tr>\n",
       "  </tbody>\n",
       "</table>\n",
       "</div>"
      ],
      "text/plain": [
       "         wind_speed  atmospheric_temperature  shaft_temperature  blades_angle  \\\n",
       "count  27927.000000             24750.000000       28198.000000  27984.000000   \n",
       "mean      69.037071                 0.383727          40.085387     -9.654038   \n",
       "std       76.275645                44.278534          27.204430     47.918161   \n",
       "min     -496.211029               -99.000000         -99.000000   -146.259543   \n",
       "25%       20.883502                 7.948900          41.633238     -1.197652   \n",
       "50%       93.302129                16.102410          43.686082     -0.495608   \n",
       "75%       95.268058                23.687285          45.673685      5.495030   \n",
       "max      601.455670                80.217444         169.820455    165.932123   \n",
       "\n",
       "       gearbox_temperature  engine_temperature  motor_torque  \\\n",
       "count         28199.000000        28188.000000  28176.000000   \n",
       "mean             41.027755           42.614239   1710.819803   \n",
       "std              43.663605            6.124546    827.205537   \n",
       "min            -244.974098            3.167151    500.000000   \n",
       "25%              40.557952           41.911365    870.340239   \n",
       "50%              43.221735           43.525297   2031.849540   \n",
       "75%              45.879425           45.174246   2462.585729   \n",
       "max             999.000000           50.000000   3000.000000   \n",
       "\n",
       "       generator_temperature  atmospheric_pressure  area_temperature  \\\n",
       "count           28188.000000          2.549300e+04      28200.000000   \n",
       "mean               65.027857          5.318506e+04         32.735091   \n",
       "std                19.816499          1.875036e+05          7.703391   \n",
       "min                33.893779         -1.188624e+06        -30.000000   \n",
       "25%                41.198509          1.679492e+04         27.311644   \n",
       "50%                70.729533          1.819113e+04         32.605195   \n",
       "75%                78.945849          1.181133e+05         38.232387   \n",
       "max               100.000000          1.272552e+06         55.000000   \n",
       "\n",
       "       windmill_body_temperature  wind_direction    resistance  rotor_torque  \\\n",
       "count               25837.000000    23097.000000  28199.000000  27628.000000   \n",
       "mean                   20.799761      306.888883   1575.560011     25.849894   \n",
       "std                    54.356431      134.055900    483.326394     32.423943   \n",
       "min                  -999.000000        0.000000  -1005.222988   -136.732217   \n",
       "25%                    40.448386      238.627752   1268.134043     13.722808   \n",
       "50%                    42.786832      271.427656   1678.238404     32.977192   \n",
       "75%                    44.494543      404.153517   1829.054007     41.550520   \n",
       "max                   323.000000      569.966479   4693.481933    236.883264   \n",
       "\n",
       "       blade_length  blade_breadth  windmill_height  windmill_generated_power  \n",
       "count  23107.000000   28200.000000     27657.000000              27993.000000  \n",
       "mean       2.254034       0.397249        25.887052                  6.130529  \n",
       "std       11.275602       0.061158         7.773609                  2.697520  \n",
       "min      -99.000000       0.200111       -30.295253                  0.962305  \n",
       "25%        2.544859       0.347445        24.447658                  4.059505  \n",
       "50%        3.453333       0.398591        25.957739                  5.764710  \n",
       "75%        4.357862       0.449354        27.477854                  7.947195  \n",
       "max       18.209800       0.499975        78.351335                 20.175358  "
      ]
     },
     "execution_count": 10,
     "metadata": {},
     "output_type": "execute_result"
    }
   ],
   "source": [
    "train.describe()"
   ]
  },
  {
   "cell_type": "code",
   "execution_count": 11,
   "metadata": {},
   "outputs": [
    {
     "data": {
      "text/plain": [
       "{'A',\n",
       " 'A2',\n",
       " 'AAA',\n",
       " 'AB',\n",
       " 'ABC',\n",
       " 'AC',\n",
       " 'B',\n",
       " 'B2',\n",
       " 'BA',\n",
       " 'BB',\n",
       " 'BBB',\n",
       " 'BCB',\n",
       " 'BD',\n",
       " 'D',\n",
       " nan}"
      ]
     },
     "execution_count": 11,
     "metadata": {},
     "output_type": "execute_result"
    }
   ],
   "source": [
    "set(train[\"turbine_status\"])"
   ]
  },
  {
   "cell_type": "code",
   "execution_count": 12,
   "metadata": {},
   "outputs": [
    {
     "data": {
      "text/plain": [
       "{'Extremely Low', 'Low', 'Medium', nan}"
      ]
     },
     "execution_count": 12,
     "metadata": {},
     "output_type": "execute_result"
    }
   ],
   "source": [
    "set(train[\"cloud_level\"])"
   ]
  },
  {
   "cell_type": "code",
   "execution_count": 13,
   "metadata": {
    "scrolled": true
   },
   "outputs": [
    {
     "data": {
      "text/plain": [
       "Index(['tracking_id', 'datetime', 'wind_speed', 'atmospheric_temperature',\n",
       "       'shaft_temperature', 'blades_angle', 'gearbox_temperature',\n",
       "       'engine_temperature', 'motor_torque', 'generator_temperature',\n",
       "       'atmospheric_pressure', 'area_temperature', 'windmill_body_temperature',\n",
       "       'wind_direction', 'resistance', 'rotor_torque', 'turbine_status',\n",
       "       'cloud_level', 'blade_length', 'blade_breadth', 'windmill_height',\n",
       "       'windmill_generated_power'],\n",
       "      dtype='object')"
      ]
     },
     "execution_count": 13,
     "metadata": {},
     "output_type": "execute_result"
    }
   ],
   "source": [
    "train.columns"
   ]
  },
  {
   "cell_type": "code",
   "execution_count": 14,
   "metadata": {},
   "outputs": [],
   "source": [
    "train = train.drop(['tracking_id', 'datetime', 'shaft_temperature', 'blades_angle', 'gearbox_temperature', 'engine_temperature',\n",
    "                    'motor_torque', 'generator_temperature', 'windmill_body_temperature', 'resistance', 'rotor_torque', 'turbine_status',\n",
    "                    'blade_length', 'blade_breadth', 'windmill_height'], axis = 1)"
   ]
  },
  {
   "cell_type": "code",
   "execution_count": 15,
   "metadata": {},
   "outputs": [
    {
     "data": {
      "text/plain": [
       "Index(['wind_speed', 'atmospheric_temperature', 'atmospheric_pressure',\n",
       "       'area_temperature', 'wind_direction', 'cloud_level',\n",
       "       'windmill_generated_power'],\n",
       "      dtype='object')"
      ]
     },
     "execution_count": 15,
     "metadata": {},
     "output_type": "execute_result"
    }
   ],
   "source": [
    "train.columns"
   ]
  },
  {
   "cell_type": "code",
   "execution_count": 16,
   "metadata": {},
   "outputs": [
    {
     "data": {
      "text/html": [
       "<div>\n",
       "<style scoped>\n",
       "    .dataframe tbody tr th:only-of-type {\n",
       "        vertical-align: middle;\n",
       "    }\n",
       "\n",
       "    .dataframe tbody tr th {\n",
       "        vertical-align: top;\n",
       "    }\n",
       "\n",
       "    .dataframe thead th {\n",
       "        text-align: right;\n",
       "    }\n",
       "</style>\n",
       "<table border=\"1\" class=\"dataframe\">\n",
       "  <thead>\n",
       "    <tr style=\"text-align: right;\">\n",
       "      <th></th>\n",
       "      <th>wind_speed</th>\n",
       "      <th>atmospheric_temperature</th>\n",
       "      <th>atmospheric_pressure</th>\n",
       "      <th>area_temperature</th>\n",
       "      <th>wind_direction</th>\n",
       "      <th>cloud_level</th>\n",
       "      <th>windmill_generated_power</th>\n",
       "    </tr>\n",
       "  </thead>\n",
       "  <tbody>\n",
       "    <tr>\n",
       "      <th>0</th>\n",
       "      <td>94.820023</td>\n",
       "      <td>-99.000000</td>\n",
       "      <td>103402.961872</td>\n",
       "      <td>26.897875</td>\n",
       "      <td>239.836388</td>\n",
       "      <td>Medium</td>\n",
       "      <td>6.766521</td>\n",
       "    </tr>\n",
       "    <tr>\n",
       "      <th>1</th>\n",
       "      <td>241.832734</td>\n",
       "      <td>27.764785</td>\n",
       "      <td>17030.904078</td>\n",
       "      <td>39.801469</td>\n",
       "      <td>337.944723</td>\n",
       "      <td>Medium</td>\n",
       "      <td>5.966275</td>\n",
       "    </tr>\n",
       "    <tr>\n",
       "      <th>2</th>\n",
       "      <td>95.484724</td>\n",
       "      <td>NaN</td>\n",
       "      <td>16125.927107</td>\n",
       "      <td>36.116065</td>\n",
       "      <td>227.850294</td>\n",
       "      <td>Medium</td>\n",
       "      <td>2.874342</td>\n",
       "    </tr>\n",
       "    <tr>\n",
       "      <th>3</th>\n",
       "      <td>238.819424</td>\n",
       "      <td>-99.000000</td>\n",
       "      <td>18689.732336</td>\n",
       "      <td>46.020045</td>\n",
       "      <td>492.081520</td>\n",
       "      <td>NaN</td>\n",
       "      <td>14.851089</td>\n",
       "    </tr>\n",
       "    <tr>\n",
       "      <th>4</th>\n",
       "      <td>10.722890</td>\n",
       "      <td>NaN</td>\n",
       "      <td>114468.169007</td>\n",
       "      <td>34.572941</td>\n",
       "      <td>259.274601</td>\n",
       "      <td>Medium</td>\n",
       "      <td>3.519074</td>\n",
       "    </tr>\n",
       "  </tbody>\n",
       "</table>\n",
       "</div>"
      ],
      "text/plain": [
       "   wind_speed  atmospheric_temperature  atmospheric_pressure  \\\n",
       "0   94.820023               -99.000000         103402.961872   \n",
       "1  241.832734                27.764785          17030.904078   \n",
       "2   95.484724                      NaN          16125.927107   \n",
       "3  238.819424               -99.000000          18689.732336   \n",
       "4   10.722890                      NaN         114468.169007   \n",
       "\n",
       "   area_temperature  wind_direction cloud_level  windmill_generated_power  \n",
       "0         26.897875      239.836388      Medium                  6.766521  \n",
       "1         39.801469      337.944723      Medium                  5.966275  \n",
       "2         36.116065      227.850294      Medium                  2.874342  \n",
       "3         46.020045      492.081520         NaN                 14.851089  \n",
       "4         34.572941      259.274601      Medium                  3.519074  "
      ]
     },
     "execution_count": 16,
     "metadata": {},
     "output_type": "execute_result"
    }
   ],
   "source": [
    "train.head()"
   ]
  },
  {
   "cell_type": "code",
   "execution_count": 17,
   "metadata": {},
   "outputs": [
    {
     "data": {
      "text/plain": [
       "['wind_speed',\n",
       " 'atmospheric_temperature',\n",
       " 'atmospheric_pressure',\n",
       " 'area_temperature',\n",
       " 'wind_direction',\n",
       " 'windmill_generated_power']"
      ]
     },
     "execution_count": 17,
     "metadata": {},
     "output_type": "execute_result"
    }
   ],
   "source": [
    "list(train.select_dtypes(include=[np.int64, np.float64]).columns)"
   ]
  },
  {
   "cell_type": "code",
   "execution_count": 18,
   "metadata": {},
   "outputs": [],
   "source": [
    "train['wind_speed'].fillna(train['wind_speed'].median(),inplace=True)\n",
    "train['atmospheric_temperature'].fillna(train['atmospheric_temperature'].median(),inplace=True)\n",
    "train['atmospheric_pressure'].fillna(train['atmospheric_pressure'].median(),inplace=True)\n",
    "train['area_temperature'].fillna(train['area_temperature'].median(),inplace=True)\n",
    "train['wind_direction'].fillna(train['wind_direction'].median(),inplace=True)\n",
    "train['cloud_level'].fillna(train['cloud_level'].mode()[0],inplace=True)"
   ]
  },
  {
   "cell_type": "code",
   "execution_count": 19,
   "metadata": {},
   "outputs": [
    {
     "data": {
      "text/plain": [
       "wind_speed                    0\n",
       "atmospheric_temperature       0\n",
       "atmospheric_pressure          0\n",
       "area_temperature              0\n",
       "wind_direction                0\n",
       "cloud_level                   0\n",
       "windmill_generated_power    207\n",
       "dtype: int64"
      ]
     },
     "execution_count": 19,
     "metadata": {},
     "output_type": "execute_result"
    }
   ],
   "source": [
    "train.isnull().sum()"
   ]
  },
  {
   "cell_type": "code",
   "execution_count": 20,
   "metadata": {},
   "outputs": [],
   "source": [
    "train = train.dropna()"
   ]
  },
  {
   "cell_type": "code",
   "execution_count": 21,
   "metadata": {},
   "outputs": [
    {
     "data": {
      "text/html": [
       "<div>\n",
       "<style scoped>\n",
       "    .dataframe tbody tr th:only-of-type {\n",
       "        vertical-align: middle;\n",
       "    }\n",
       "\n",
       "    .dataframe tbody tr th {\n",
       "        vertical-align: top;\n",
       "    }\n",
       "\n",
       "    .dataframe thead th {\n",
       "        text-align: right;\n",
       "    }\n",
       "</style>\n",
       "<table border=\"1\" class=\"dataframe\">\n",
       "  <thead>\n",
       "    <tr style=\"text-align: right;\">\n",
       "      <th></th>\n",
       "      <th>wind_speed</th>\n",
       "      <th>atmospheric_temperature</th>\n",
       "      <th>atmospheric_pressure</th>\n",
       "      <th>area_temperature</th>\n",
       "      <th>wind_direction</th>\n",
       "      <th>windmill_generated_power</th>\n",
       "    </tr>\n",
       "  </thead>\n",
       "  <tbody>\n",
       "    <tr>\n",
       "      <th>count</th>\n",
       "      <td>27993.000000</td>\n",
       "      <td>27993.000000</td>\n",
       "      <td>2.799300e+04</td>\n",
       "      <td>27993.000000</td>\n",
       "      <td>27993.000000</td>\n",
       "      <td>27993.000000</td>\n",
       "    </tr>\n",
       "    <tr>\n",
       "      <th>mean</th>\n",
       "      <td>69.267174</td>\n",
       "      <td>2.294245</td>\n",
       "      <td>4.969926e+04</td>\n",
       "      <td>32.728987</td>\n",
       "      <td>300.343920</td>\n",
       "      <td>6.130529</td>\n",
       "    </tr>\n",
       "    <tr>\n",
       "      <th>std</th>\n",
       "      <td>75.995557</td>\n",
       "      <td>41.806432</td>\n",
       "      <td>1.784840e+05</td>\n",
       "      <td>7.703850</td>\n",
       "      <td>121.962942</td>\n",
       "      <td>2.697520</td>\n",
       "    </tr>\n",
       "    <tr>\n",
       "      <th>min</th>\n",
       "      <td>-496.211029</td>\n",
       "      <td>-99.000000</td>\n",
       "      <td>-1.188624e+06</td>\n",
       "      <td>-30.000000</td>\n",
       "      <td>0.000000</td>\n",
       "      <td>0.962305</td>\n",
       "    </tr>\n",
       "    <tr>\n",
       "      <th>25%</th>\n",
       "      <td>21.225082</td>\n",
       "      <td>9.370953</td>\n",
       "      <td>1.689088e+04</td>\n",
       "      <td>27.311681</td>\n",
       "      <td>246.781153</td>\n",
       "      <td>4.059505</td>\n",
       "    </tr>\n",
       "    <tr>\n",
       "      <th>50%</th>\n",
       "      <td>93.302129</td>\n",
       "      <td>16.102410</td>\n",
       "      <td>1.819113e+04</td>\n",
       "      <td>32.592784</td>\n",
       "      <td>271.427656</td>\n",
       "      <td>5.764710</td>\n",
       "    </tr>\n",
       "    <tr>\n",
       "      <th>75%</th>\n",
       "      <td>95.248343</td>\n",
       "      <td>22.574933</td>\n",
       "      <td>1.164118e+05</td>\n",
       "      <td>38.213333</td>\n",
       "      <td>331.623967</td>\n",
       "      <td>7.947195</td>\n",
       "    </tr>\n",
       "    <tr>\n",
       "      <th>max</th>\n",
       "      <td>601.455670</td>\n",
       "      <td>80.217444</td>\n",
       "      <td>1.272552e+06</td>\n",
       "      <td>55.000000</td>\n",
       "      <td>569.966479</td>\n",
       "      <td>20.175358</td>\n",
       "    </tr>\n",
       "  </tbody>\n",
       "</table>\n",
       "</div>"
      ],
      "text/plain": [
       "         wind_speed  atmospheric_temperature  atmospheric_pressure  \\\n",
       "count  27993.000000             27993.000000          2.799300e+04   \n",
       "mean      69.267174                 2.294245          4.969926e+04   \n",
       "std       75.995557                41.806432          1.784840e+05   \n",
       "min     -496.211029               -99.000000         -1.188624e+06   \n",
       "25%       21.225082                 9.370953          1.689088e+04   \n",
       "50%       93.302129                16.102410          1.819113e+04   \n",
       "75%       95.248343                22.574933          1.164118e+05   \n",
       "max      601.455670                80.217444          1.272552e+06   \n",
       "\n",
       "       area_temperature  wind_direction  windmill_generated_power  \n",
       "count      27993.000000    27993.000000              27993.000000  \n",
       "mean          32.728987      300.343920                  6.130529  \n",
       "std            7.703850      121.962942                  2.697520  \n",
       "min          -30.000000        0.000000                  0.962305  \n",
       "25%           27.311681      246.781153                  4.059505  \n",
       "50%           32.592784      271.427656                  5.764710  \n",
       "75%           38.213333      331.623967                  7.947195  \n",
       "max           55.000000      569.966479                 20.175358  "
      ]
     },
     "execution_count": 21,
     "metadata": {},
     "output_type": "execute_result"
    }
   ],
   "source": [
    "train.describe()"
   ]
  },
  {
   "cell_type": "code",
   "execution_count": 22,
   "metadata": {},
   "outputs": [
    {
     "data": {
      "text/html": [
       "<div>\n",
       "<style scoped>\n",
       "    .dataframe tbody tr th:only-of-type {\n",
       "        vertical-align: middle;\n",
       "    }\n",
       "\n",
       "    .dataframe tbody tr th {\n",
       "        vertical-align: top;\n",
       "    }\n",
       "\n",
       "    .dataframe thead th {\n",
       "        text-align: right;\n",
       "    }\n",
       "</style>\n",
       "<table border=\"1\" class=\"dataframe\">\n",
       "  <thead>\n",
       "    <tr style=\"text-align: right;\">\n",
       "      <th></th>\n",
       "      <th>cloud_level</th>\n",
       "    </tr>\n",
       "  </thead>\n",
       "  <tbody>\n",
       "    <tr>\n",
       "      <th>count</th>\n",
       "      <td>27993</td>\n",
       "    </tr>\n",
       "    <tr>\n",
       "      <th>unique</th>\n",
       "      <td>3</td>\n",
       "    </tr>\n",
       "    <tr>\n",
       "      <th>top</th>\n",
       "      <td>Low</td>\n",
       "    </tr>\n",
       "    <tr>\n",
       "      <th>freq</th>\n",
       "      <td>14096</td>\n",
       "    </tr>\n",
       "  </tbody>\n",
       "</table>\n",
       "</div>"
      ],
      "text/plain": [
       "       cloud_level\n",
       "count        27993\n",
       "unique           3\n",
       "top            Low\n",
       "freq         14096"
      ]
     },
     "execution_count": 22,
     "metadata": {},
     "output_type": "execute_result"
    }
   ],
   "source": [
    "train.describe(include = \"object\")"
   ]
  },
  {
   "cell_type": "markdown",
   "metadata": {},
   "source": [
    "# 피처 엔지니어링"
   ]
  },
  {
   "cell_type": "code",
   "execution_count": 23,
   "metadata": {},
   "outputs": [],
   "source": [
    "# 발전량이 발전량 피처의 중앙값을 넘으면 1, 아니면 0인 windmill_generated_power_b 피처를 생성\n",
    "\n",
    "train['windmill_generated_power_b'] = 0\n",
    "train['windmill_generated_power_b'] = np.where(train['windmill_generated_power'] > train['windmill_generated_power'].median(), 1, 0)\n",
    "train.reset_index(inplace = True, drop = True)"
   ]
  },
  {
   "cell_type": "code",
   "execution_count": 24,
   "metadata": {},
   "outputs": [
    {
     "data": {
      "text/plain": [
       "0        1\n",
       "1        1\n",
       "2        0\n",
       "3        1\n",
       "4        0\n",
       "        ..\n",
       "27988    1\n",
       "27989    0\n",
       "27990    1\n",
       "27991    1\n",
       "27992    0\n",
       "Name: windmill_generated_power_b, Length: 27993, dtype: int32"
      ]
     },
     "execution_count": 24,
     "metadata": {},
     "output_type": "execute_result"
    }
   ],
   "source": [
    "train.windmill_generated_power_b"
   ]
  },
  {
   "cell_type": "markdown",
   "metadata": {},
   "source": [
    "# EDA, 상관관계 분석"
   ]
  },
  {
   "cell_type": "code",
   "execution_count": 25,
   "metadata": {},
   "outputs": [
    {
     "data": {
      "text/plain": [
       "Index(['wind_speed', 'atmospheric_temperature', 'atmospheric_pressure',\n",
       "       'area_temperature', 'wind_direction', 'windmill_generated_power'],\n",
       "      dtype='object')"
      ]
     },
     "execution_count": 25,
     "metadata": {},
     "output_type": "execute_result"
    }
   ],
   "source": [
    "train.select_dtypes(include=[np.int64, np.float64]).columns"
   ]
  },
  {
   "cell_type": "code",
   "execution_count": 26,
   "metadata": {},
   "outputs": [
    {
     "data": {
      "image/png": "[encoded data removed]",
      "text/plain": [
       "<Figure size 936x936 with 6 Axes>"
      ]
     },
     "metadata": {
      "needs_background": "light"
     },
     "output_type": "display_data"
    }
   ],
   "source": [
    "fig, axs = plt.subplots(nrows=3, ncols = 2, figsize=(13, 13))\n",
    "\n",
    "ax = sns.histplot(x=\"wind_speed\", data=train, ax = axs[0,0], bins= 20)\n",
    "ax = sns.histplot(x=\"atmospheric_temperature\", data=train, ax = axs[0,1], bins= 20)\n",
    "ax = sns.histplot(x=\"atmospheric_pressure\", data=train, ax = axs[1,0], bins= 20)\n",
    "ax = sns.histplot(x=\"area_temperature\", data=train, ax = axs[1,1], bins= 20)\n",
    "ax = sns.histplot(x=\"wind_direction\", data=train, ax = axs[2,0], bins= 20)\n",
    "ax = sns.histplot(x=\"windmill_generated_power\", data=train, ax = axs[2,1], bins= 20)"
   ]
  },
  {
   "cell_type": "code",
   "execution_count": 28,
   "metadata": {},
   "outputs": [
    {
     "data": {
      "text/plain": [
       "<AxesSubplot:ylabel='windmill_generated_power_b'>"
      ]
     },
     "execution_count": 28,
     "metadata": {},
     "output_type": "execute_result"
    },
    {
     "data": {
      "image/png": "[encoded data removed]",
      "text/plain": [
       "<Figure size 432x288 with 1 Axes>"
      ]
     },
     "metadata": {
      "needs_background": "light"
     },
     "output_type": "display_data"
    }
   ],
   "source": [
    "sns.barplot(y = train.windmill_generated_power_b.value_counts(),\n",
    "           x = train.windmill_generated_power_b.value_counts().index)"
   ]
  },
  {
   "cell_type": "code",
   "execution_count": 29,
   "metadata": {},
   "outputs": [
    {
     "data": {
      "text/plain": [
       "Low              14096\n",
       "Medium           13598\n",
       "Extremely Low      299\n",
       "Name: cloud_level, dtype: int64"
      ]
     },
     "execution_count": 29,
     "metadata": {},
     "output_type": "execute_result"
    }
   ],
   "source": [
    "train.cloud_level.value_counts()"
   ]
  },
  {
   "cell_type": "code",
   "execution_count": 30,
   "metadata": {},
   "outputs": [
    {
     "data": {
      "text/plain": [
       "<AxesSubplot:ylabel='cloud_level'>"
      ]
     },
     "execution_count": 30,
     "metadata": {},
     "output_type": "execute_result"
    },
    {
     "data": {
      "image/png": "[encoded data removed]",
      "text/plain": [
       "<Figure size 432x288 with 1 Axes>"
      ]
     },
     "metadata": {
      "needs_background": "light"
     },
     "output_type": "display_data"
    }
   ],
   "source": [
    "sns.barplot(y = train.cloud_level.value_counts(),\n",
    "            x = train.cloud_level.value_counts().index)"
   ]
  },
  {
   "cell_type": "code",
   "execution_count": 31,
   "metadata": {},
   "outputs": [
    {
     "data": {
      "image/png": "[encoded data removed]",
      "text/plain": [
       "<Figure size 1440x1440 with 2 Axes>"
      ]
     },
     "metadata": {
      "needs_background": "light"
     },
     "output_type": "display_data"
    },
    {
     "data": {
      "text/plain": [
       "{'corr':                             wind_speed  atmospheric_temperature  \\\n",
       " wind_speed                    1.000000                 0.048925   \n",
       " atmospheric_temperature       0.048925                 1.000000   \n",
       " atmospheric_pressure         -0.114342                -0.019450   \n",
       " area_temperature              0.196317                 0.066233   \n",
       " wind_direction                0.038029                 0.015042   \n",
       " windmill_generated_power      0.062324                -0.002432   \n",
       " windmill_generated_power_b    0.048664                -0.002845   \n",
       " cloud_level_Extremely Low    -0.008441                 0.000214   \n",
       " cloud_level_Low               0.004207                 0.008149   \n",
       " cloud_level_Medium           -0.002473                -0.008196   \n",
       " \n",
       "                             atmospheric_pressure  area_temperature  \\\n",
       " wind_speed                             -0.114342          0.196317   \n",
       " atmospheric_temperature                -0.019450          0.066233   \n",
       " atmospheric_pressure                    1.000000         -0.085127   \n",
       " area_temperature                       -0.085127          1.000000   \n",
       " wind_direction                         -0.024664          0.148719   \n",
       " windmill_generated_power               -0.013086          0.384564   \n",
       " windmill_generated_power_b              0.001300          0.315889   \n",
       " cloud_level_Extremely Low               0.003972         -0.025491   \n",
       " cloud_level_Low                        -0.002476          0.008507   \n",
       " cloud_level_Medium                      0.001660         -0.003267   \n",
       " \n",
       "                             wind_direction  windmill_generated_power  \\\n",
       " wind_speed                        0.038029                  0.062324   \n",
       " atmospheric_temperature           0.015042                 -0.002432   \n",
       " atmospheric_pressure             -0.024664                 -0.013086   \n",
       " area_temperature                  0.148719                  0.384564   \n",
       " wind_direction                    1.000000                  0.286309   \n",
       " windmill_generated_power          0.286309                  1.000000   \n",
       " windmill_generated_power_b        0.203963                  0.801215   \n",
       " cloud_level_Extremely Low        -0.028323                 -0.170815   \n",
       " cloud_level_Low                   0.002553                  0.002313   \n",
       " cloud_level_Medium                0.003271                  0.032819   \n",
       " \n",
       "                             windmill_generated_power_b  \\\n",
       " wind_speed                                    0.048664   \n",
       " atmospheric_temperature                      -0.002845   \n",
       " atmospheric_pressure                          0.001300   \n",
       " area_temperature                              0.315889   \n",
       " wind_direction                                0.203963   \n",
       " windmill_generated_power                      0.801215   \n",
       " windmill_generated_power_b                    1.000000   \n",
       " cloud_level_Extremely Low                    -0.103903   \n",
       " cloud_level_Low                               0.001036   \n",
       " cloud_level_Medium                            0.020334   \n",
       " \n",
       "                             cloud_level_Extremely Low  cloud_level_Low  \\\n",
       " wind_speed                                  -0.008441         0.004207   \n",
       " atmospheric_temperature                      0.000214         0.008149   \n",
       " atmospheric_pressure                         0.003972        -0.002476   \n",
       " area_temperature                            -0.025491         0.008507   \n",
       " wind_direction                              -0.028323         0.002553   \n",
       " windmill_generated_power                    -0.170815         0.002313   \n",
       " windmill_generated_power_b                  -0.103903         0.001036   \n",
       " cloud_level_Extremely Low                    1.000000        -0.104648   \n",
       " cloud_level_Low                             -0.104648         1.000000   \n",
       " cloud_level_Medium                          -0.100989        -0.978857   \n",
       " \n",
       "                             cloud_level_Medium  \n",
       " wind_speed                           -0.002473  \n",
       " atmospheric_temperature              -0.008196  \n",
       " atmospheric_pressure                  0.001660  \n",
       " area_temperature                     -0.003267  \n",
       " wind_direction                        0.003271  \n",
       " windmill_generated_power              0.032819  \n",
       " windmill_generated_power_b            0.020334  \n",
       " cloud_level_Extremely Low            -0.100989  \n",
       " cloud_level_Low                      -0.978857  \n",
       " cloud_level_Medium                    1.000000  ,\n",
       " 'ax': <AxesSubplot:>}"
      ]
     },
     "execution_count": 31,
     "metadata": {},
     "output_type": "execute_result"
    }
   ],
   "source": [
    "from dython import nominal\n",
    "\n",
    "nominal.associations(pd.get_dummies(train), figsize=(20,20),cmap = \"Blues_r\")"
   ]
  },
  {
   "cell_type": "code",
   "execution_count": 32,
   "metadata": {},
   "outputs": [
    {
     "data": {
      "text/html": [
       "<div>\n",
       "<style scoped>\n",
       "    .dataframe tbody tr th:only-of-type {\n",
       "        vertical-align: middle;\n",
       "    }\n",
       "\n",
       "    .dataframe tbody tr th {\n",
       "        vertical-align: top;\n",
       "    }\n",
       "\n",
       "    .dataframe thead th {\n",
       "        text-align: right;\n",
       "    }\n",
       "</style>\n",
       "<table border=\"1\" class=\"dataframe\">\n",
       "  <thead>\n",
       "    <tr style=\"text-align: right;\">\n",
       "      <th></th>\n",
       "      <th>wind_speed</th>\n",
       "      <th>atmospheric_temperature</th>\n",
       "      <th>atmospheric_pressure</th>\n",
       "      <th>area_temperature</th>\n",
       "      <th>wind_direction</th>\n",
       "      <th>cloud_level</th>\n",
       "      <th>windmill_generated_power</th>\n",
       "      <th>windmill_generated_power_b</th>\n",
       "    </tr>\n",
       "  </thead>\n",
       "  <tbody>\n",
       "    <tr>\n",
       "      <th>0</th>\n",
       "      <td>94.820023</td>\n",
       "      <td>-99.000000</td>\n",
       "      <td>103402.961872</td>\n",
       "      <td>26.897875</td>\n",
       "      <td>239.836388</td>\n",
       "      <td>Medium</td>\n",
       "      <td>6.766521</td>\n",
       "      <td>1</td>\n",
       "    </tr>\n",
       "    <tr>\n",
       "      <th>1</th>\n",
       "      <td>241.832734</td>\n",
       "      <td>27.764785</td>\n",
       "      <td>17030.904078</td>\n",
       "      <td>39.801469</td>\n",
       "      <td>337.944723</td>\n",
       "      <td>Medium</td>\n",
       "      <td>5.966275</td>\n",
       "      <td>1</td>\n",
       "    </tr>\n",
       "    <tr>\n",
       "      <th>2</th>\n",
       "      <td>95.484724</td>\n",
       "      <td>16.102410</td>\n",
       "      <td>16125.927107</td>\n",
       "      <td>36.116065</td>\n",
       "      <td>227.850294</td>\n",
       "      <td>Medium</td>\n",
       "      <td>2.874342</td>\n",
       "      <td>0</td>\n",
       "    </tr>\n",
       "    <tr>\n",
       "      <th>3</th>\n",
       "      <td>238.819424</td>\n",
       "      <td>-99.000000</td>\n",
       "      <td>18689.732336</td>\n",
       "      <td>46.020045</td>\n",
       "      <td>492.081520</td>\n",
       "      <td>Low</td>\n",
       "      <td>14.851089</td>\n",
       "      <td>1</td>\n",
       "    </tr>\n",
       "    <tr>\n",
       "      <th>4</th>\n",
       "      <td>10.722890</td>\n",
       "      <td>16.102410</td>\n",
       "      <td>114468.169007</td>\n",
       "      <td>34.572941</td>\n",
       "      <td>259.274601</td>\n",
       "      <td>Medium</td>\n",
       "      <td>3.519074</td>\n",
       "      <td>0</td>\n",
       "    </tr>\n",
       "  </tbody>\n",
       "</table>\n",
       "</div>"
      ],
      "text/plain": [
       "   wind_speed  atmospheric_temperature  atmospheric_pressure  \\\n",
       "0   94.820023               -99.000000         103402.961872   \n",
       "1  241.832734                27.764785          17030.904078   \n",
       "2   95.484724                16.102410          16125.927107   \n",
       "3  238.819424               -99.000000          18689.732336   \n",
       "4   10.722890                16.102410         114468.169007   \n",
       "\n",
       "   area_temperature  wind_direction cloud_level  windmill_generated_power  \\\n",
       "0         26.897875      239.836388      Medium                  6.766521   \n",
       "1         39.801469      337.944723      Medium                  5.966275   \n",
       "2         36.116065      227.850294      Medium                  2.874342   \n",
       "3         46.020045      492.081520         Low                 14.851089   \n",
       "4         34.572941      259.274601      Medium                  3.519074   \n",
       "\n",
       "   windmill_generated_power_b  \n",
       "0                           1  \n",
       "1                           1  \n",
       "2                           0  \n",
       "3                           1  \n",
       "4                           0  "
      ]
     },
     "execution_count": 32,
     "metadata": {},
     "output_type": "execute_result"
    }
   ],
   "source": [
    "train.head()"
   ]
  },
  {
   "cell_type": "markdown",
   "metadata": {},
   "source": [
    "# 모델 학습"
   ]
  },
  {
   "cell_type": "code",
   "execution_count": 33,
   "metadata": {},
   "outputs": [],
   "source": [
    "X = train.drop(['windmill_generated_power_b', 'windmill_generated_power'], axis = 1)\n",
    "y = train['windmill_generated_power_b']"
   ]
  },
  {
   "cell_type": "code",
   "execution_count": 34,
   "metadata": {},
   "outputs": [
    {
     "data": {
      "text/html": [
       "<div>\n",
       "<style scoped>\n",
       "    .dataframe tbody tr th:only-of-type {\n",
       "        vertical-align: middle;\n",
       "    }\n",
       "\n",
       "    .dataframe tbody tr th {\n",
       "        vertical-align: top;\n",
       "    }\n",
       "\n",
       "    .dataframe thead th {\n",
       "        text-align: right;\n",
       "    }\n",
       "</style>\n",
       "<table border=\"1\" class=\"dataframe\">\n",
       "  <thead>\n",
       "    <tr style=\"text-align: right;\">\n",
       "      <th></th>\n",
       "      <th>wind_speed</th>\n",
       "      <th>atmospheric_temperature</th>\n",
       "      <th>atmospheric_pressure</th>\n",
       "      <th>area_temperature</th>\n",
       "      <th>wind_direction</th>\n",
       "      <th>cloud_level</th>\n",
       "    </tr>\n",
       "  </thead>\n",
       "  <tbody>\n",
       "    <tr>\n",
       "      <th>0</th>\n",
       "      <td>94.820023</td>\n",
       "      <td>-99.000000</td>\n",
       "      <td>103402.961872</td>\n",
       "      <td>26.897875</td>\n",
       "      <td>239.836388</td>\n",
       "      <td>Medium</td>\n",
       "    </tr>\n",
       "    <tr>\n",
       "      <th>1</th>\n",
       "      <td>241.832734</td>\n",
       "      <td>27.764785</td>\n",
       "      <td>17030.904078</td>\n",
       "      <td>39.801469</td>\n",
       "      <td>337.944723</td>\n",
       "      <td>Medium</td>\n",
       "    </tr>\n",
       "    <tr>\n",
       "      <th>2</th>\n",
       "      <td>95.484724</td>\n",
       "      <td>16.102410</td>\n",
       "      <td>16125.927107</td>\n",
       "      <td>36.116065</td>\n",
       "      <td>227.850294</td>\n",
       "      <td>Medium</td>\n",
       "    </tr>\n",
       "    <tr>\n",
       "      <th>3</th>\n",
       "      <td>238.819424</td>\n",
       "      <td>-99.000000</td>\n",
       "      <td>18689.732336</td>\n",
       "      <td>46.020045</td>\n",
       "      <td>492.081520</td>\n",
       "      <td>Low</td>\n",
       "    </tr>\n",
       "    <tr>\n",
       "      <th>4</th>\n",
       "      <td>10.722890</td>\n",
       "      <td>16.102410</td>\n",
       "      <td>114468.169007</td>\n",
       "      <td>34.572941</td>\n",
       "      <td>259.274601</td>\n",
       "      <td>Medium</td>\n",
       "    </tr>\n",
       "    <tr>\n",
       "      <th>...</th>\n",
       "      <td>...</td>\n",
       "      <td>...</td>\n",
       "      <td>...</td>\n",
       "      <td>...</td>\n",
       "      <td>...</td>\n",
       "      <td>...</td>\n",
       "    </tr>\n",
       "    <tr>\n",
       "      <th>27988</th>\n",
       "      <td>94.765699</td>\n",
       "      <td>23.576793</td>\n",
       "      <td>19428.725079</td>\n",
       "      <td>45.429230</td>\n",
       "      <td>536.153413</td>\n",
       "      <td>Medium</td>\n",
       "    </tr>\n",
       "    <tr>\n",
       "      <th>27989</th>\n",
       "      <td>94.196738</td>\n",
       "      <td>24.034329</td>\n",
       "      <td>16596.485400</td>\n",
       "      <td>25.142681</td>\n",
       "      <td>354.239825</td>\n",
       "      <td>Low</td>\n",
       "    </tr>\n",
       "    <tr>\n",
       "      <th>27990</th>\n",
       "      <td>94.160463</td>\n",
       "      <td>28.674296</td>\n",
       "      <td>19083.881449</td>\n",
       "      <td>45.129442</td>\n",
       "      <td>534.209913</td>\n",
       "      <td>Medium</td>\n",
       "    </tr>\n",
       "    <tr>\n",
       "      <th>27991</th>\n",
       "      <td>95.430377</td>\n",
       "      <td>26.560254</td>\n",
       "      <td>18360.785707</td>\n",
       "      <td>45.603927</td>\n",
       "      <td>568.504898</td>\n",
       "      <td>Low</td>\n",
       "    </tr>\n",
       "    <tr>\n",
       "      <th>27992</th>\n",
       "      <td>43.558352</td>\n",
       "      <td>18.721231</td>\n",
       "      <td>-256507.547672</td>\n",
       "      <td>22.413407</td>\n",
       "      <td>320.498070</td>\n",
       "      <td>Low</td>\n",
       "    </tr>\n",
       "  </tbody>\n",
       "</table>\n",
       "<p>27993 rows × 6 columns</p>\n",
       "</div>"
      ],
      "text/plain": [
       "       wind_speed  atmospheric_temperature  atmospheric_pressure  \\\n",
       "0       94.820023               -99.000000         103402.961872   \n",
       "1      241.832734                27.764785          17030.904078   \n",
       "2       95.484724                16.102410          16125.927107   \n",
       "3      238.819424               -99.000000          18689.732336   \n",
       "4       10.722890                16.102410         114468.169007   \n",
       "...           ...                      ...                   ...   \n",
       "27988   94.765699                23.576793          19428.725079   \n",
       "27989   94.196738                24.034329          16596.485400   \n",
       "27990   94.160463                28.674296          19083.881449   \n",
       "27991   95.430377                26.560254          18360.785707   \n",
       "27992   43.558352                18.721231        -256507.547672   \n",
       "\n",
       "       area_temperature  wind_direction cloud_level  \n",
       "0             26.897875      239.836388      Medium  \n",
       "1             39.801469      337.944723      Medium  \n",
       "2             36.116065      227.850294      Medium  \n",
       "3             46.020045      492.081520         Low  \n",
       "4             34.572941      259.274601      Medium  \n",
       "...                 ...             ...         ...  \n",
       "27988         45.429230      536.153413      Medium  \n",
       "27989         25.142681      354.239825         Low  \n",
       "27990         45.129442      534.209913      Medium  \n",
       "27991         45.603927      568.504898         Low  \n",
       "27992         22.413407      320.498070         Low  \n",
       "\n",
       "[27993 rows x 6 columns]"
      ]
     },
     "execution_count": 34,
     "metadata": {},
     "output_type": "execute_result"
    }
   ],
   "source": [
    "X"
   ]
  },
  {
   "cell_type": "code",
   "execution_count": 35,
   "metadata": {},
   "outputs": [],
   "source": [
    "from sklearn.compose import ColumnTransformer\n",
    "from sklearn.preprocessing import OneHotEncoder\n",
    "\n",
    "ct = ColumnTransformer(\n",
    "    [(\"scaling\", StandardScaler(), ['wind_speed',\n",
    "                                    'atmospheric_temperature',\n",
    "                                    'atmospheric_pressure',\n",
    "                                    'area_temperature',\n",
    "                                    'wind_direction']),\n",
    "                         (\"onehot\", OneHotEncoder(sparse = False), ['cloud_level'])])"
   ]
  },
  {
   "cell_type": "code",
   "execution_count": 36,
   "metadata": {},
   "outputs": [],
   "source": [
    "ct.fit(X)\n",
    "X = ct.transform(X)"
   ]
  },
  {
   "cell_type": "code",
   "execution_count": 37,
   "metadata": {},
   "outputs": [],
   "source": [
    "X_train, X_test, y_train, y_test = train_test_split(X, y, test_size=0.3, random_state = 42, stratify = y)  "
   ]
  },
  {
   "cell_type": "code",
   "execution_count": 38,
   "metadata": {},
   "outputs": [
    {
     "name": "stdout",
     "output_type": "stream",
     "text": [
      "k-nn의 학습용 데이터 정확도: 0.81\n",
      "k-nn의 평가용 데이터 정확도: 0.72\n"
     ]
    }
   ],
   "source": [
    "from sklearn.neighbors import KNeighborsClassifier\n",
    "\n",
    "knn = KNeighborsClassifier()\n",
    "\n",
    "knn.fit(X_train, y_train)\n",
    "\n",
    "print(\"k-nn의 학습용 데이터 정확도: {:.2f}\".format(knn.score(X_train, y_train)))\n",
    "print(\"k-nn의 평가용 데이터 정확도: {:.2f}\".format(knn.score(X_test, y_test)))"
   ]
  },
  {
   "cell_type": "code",
   "execution_count": 39,
   "metadata": {},
   "outputs": [
    {
     "name": "stdout",
     "output_type": "stream",
     "text": [
      "로지스틱 회귀분석 학습용 데이터 정확도: 0.67\n",
      "로지스틱 회귀분석 평가용 데이터 정확도: 0.66\n"
     ]
    }
   ],
   "source": [
    "from sklearn.linear_model import LogisticRegression\n",
    "\n",
    "lr = LogisticRegression(solver = 'liblinear')\n",
    "\n",
    "lr.fit(X_train, y_train)\n",
    "\n",
    "print(\"로지스틱 회귀분석 학습용 데이터 정확도: {:.2f}\".format(lr.score(X_train, y_train)))\n",
    "print(\"로지스틱 회귀분석 평가용 데이터 정확도: {:.2f}\".format(lr.score(X_test, y_test)))"
   ]
  },
  {
   "cell_type": "code",
   "execution_count": 40,
   "metadata": {},
   "outputs": [
    {
     "name": "stdout",
     "output_type": "stream",
     "text": [
      "SVM 학습용 데이터 정확도: 0.71\n",
      "SVM 평가용 데이터 정확도: 0.69\n"
     ]
    }
   ],
   "source": [
    "from sklearn import svm\n",
    "\n",
    "svm = svm.SVC(random_state=42)\n",
    "\n",
    "svm.fit(X_train, y_train)\n",
    "\n",
    "print(\"SVM 학습용 데이터 정확도: {:.2f}\".format(svm.score(X_train, y_train)))\n",
    "print(\"SVM 평가용 데이터 정확도: {:.2f}\".format(svm.score(X_test, y_test)))"
   ]
  },
  {
   "cell_type": "code",
   "execution_count": 41,
   "metadata": {},
   "outputs": [
    {
     "name": "stdout",
     "output_type": "stream",
     "text": [
      "랜덤 포레스트 학습용 데이터 정확도: 1.00\n",
      "랜덤 포레스트 평가용 데이터 정확도: 0.84\n"
     ]
    }
   ],
   "source": [
    "from sklearn.ensemble import RandomForestClassifier\n",
    "\n",
    "randomforestclf = RandomForestClassifier(random_state=42)\n",
    "\n",
    "randomforestclf.fit(X_train, y_train)\n",
    "\n",
    "print(\"랜덤 포레스트 학습용 데이터 정확도: {:.2f}\".format(randomforestclf.score(X_train, y_train)))\n",
    "print(\"랜덤 포레스트 평가용 데이터 정확도: {:.2f}\".format(randomforestclf.score(X_test, y_test)))"
   ]
  },
  {
   "cell_type": "code",
   "execution_count": 42,
   "metadata": {},
   "outputs": [
    {
     "name": "stdout",
     "output_type": "stream",
     "text": [
      "Fitting 10 folds for each of 9 candidates, totalling 90 fits\n",
      "[CV] END .......................max_depth=1, n_estimators=10; total time=   0.0s\n",
      "[CV] END .......................max_depth=1, n_estimators=10; total time=   0.0s\n",
      "[CV] END .......................max_depth=1, n_estimators=10; total time=   0.0s\n",
      "[CV] END .......................max_depth=1, n_estimators=10; total time=   0.0s\n",
      "[CV] END .......................max_depth=1, n_estimators=10; total time=   0.0s\n",
      "[CV] END .......................max_depth=1, n_estimators=10; total time=   0.0s\n",
      "[CV] END .......................max_depth=1, n_estimators=10; total time=   0.0s\n",
      "[CV] END .......................max_depth=1, n_estimators=10; total time=   0.0s\n",
      "[CV] END .......................max_depth=1, n_estimators=10; total time=   0.0s\n",
      "[CV] END .......................max_depth=1, n_estimators=10; total time=   0.0s\n",
      "[CV] END ......................max_depth=1, n_estimators=100; total time=   0.5s\n",
      "[CV] END ......................max_depth=1, n_estimators=100; total time=   0.5s\n",
      "[CV] END ......................max_depth=1, n_estimators=100; total time=   0.4s\n",
      "[CV] END ......................max_depth=1, n_estimators=100; total time=   0.4s\n",
      "[CV] END ......................max_depth=1, n_estimators=100; total time=   0.4s\n",
      "[CV] END ......................max_depth=1, n_estimators=100; total time=   0.4s\n",
      "[CV] END ......................max_depth=1, n_estimators=100; total time=   0.4s\n",
      "[CV] END ......................max_depth=1, n_estimators=100; total time=   0.5s\n",
      "[CV] END ......................max_depth=1, n_estimators=100; total time=   0.4s\n",
      "[CV] END ......................max_depth=1, n_estimators=100; total time=   0.4s\n",
      "[CV] END .....................max_depth=1, n_estimators=1000; total time=   4.8s\n",
      "[CV] END .....................max_depth=1, n_estimators=1000; total time=   4.7s\n",
      "[CV] END .....................max_depth=1, n_estimators=1000; total time=   4.9s\n",
      "[CV] END .....................max_depth=1, n_estimators=1000; total time=   5.1s\n",
      "[CV] END .....................max_depth=1, n_estimators=1000; total time=   6.9s\n",
      "[CV] END .....................max_depth=1, n_estimators=1000; total time=   5.2s\n",
      "[CV] END .....................max_depth=1, n_estimators=1000; total time=   5.1s\n",
      "[CV] END .....................max_depth=1, n_estimators=1000; total time=   5.9s\n",
      "[CV] END .....................max_depth=1, n_estimators=1000; total time=   7.5s\n",
      "[CV] END .....................max_depth=1, n_estimators=1000; total time=   7.7s\n",
      "[CV] END .......................max_depth=5, n_estimators=10; total time=   0.0s\n",
      "[CV] END .......................max_depth=5, n_estimators=10; total time=   0.0s\n",
      "[CV] END .......................max_depth=5, n_estimators=10; total time=   0.0s\n",
      "[CV] END .......................max_depth=5, n_estimators=10; total time=   0.0s\n",
      "[CV] END .......................max_depth=5, n_estimators=10; total time=   0.0s\n",
      "[CV] END .......................max_depth=5, n_estimators=10; total time=   0.1s\n",
      "[CV] END .......................max_depth=5, n_estimators=10; total time=   0.1s\n",
      "[CV] END .......................max_depth=5, n_estimators=10; total time=   0.1s\n",
      "[CV] END .......................max_depth=5, n_estimators=10; total time=   0.0s\n",
      "[CV] END .......................max_depth=5, n_estimators=10; total time=   0.0s\n",
      "[CV] END ......................max_depth=5, n_estimators=100; total time=   0.9s\n",
      "[CV] END ......................max_depth=5, n_estimators=100; total time=   0.9s\n",
      "[CV] END ......................max_depth=5, n_estimators=100; total time=   1.0s\n",
      "[CV] END ......................max_depth=5, n_estimators=100; total time=   0.9s\n",
      "[CV] END ......................max_depth=5, n_estimators=100; total time=   1.0s\n",
      "[CV] END ......................max_depth=5, n_estimators=100; total time=   1.1s\n",
      "[CV] END ......................max_depth=5, n_estimators=100; total time=   1.1s\n",
      "[CV] END ......................max_depth=5, n_estimators=100; total time=   1.1s\n",
      "[CV] END ......................max_depth=5, n_estimators=100; total time=   1.1s\n",
      "[CV] END ......................max_depth=5, n_estimators=100; total time=   1.1s\n",
      "[CV] END .....................max_depth=5, n_estimators=1000; total time=  10.5s\n",
      "[CV] END .....................max_depth=5, n_estimators=1000; total time=   9.9s\n",
      "[CV] END .....................max_depth=5, n_estimators=1000; total time=  10.1s\n",
      "[CV] END .....................max_depth=5, n_estimators=1000; total time=   9.8s\n",
      "[CV] END .....................max_depth=5, n_estimators=1000; total time=   9.7s\n",
      "[CV] END .....................max_depth=5, n_estimators=1000; total time=   9.6s\n",
      "[CV] END .....................max_depth=5, n_estimators=1000; total time=   9.5s\n",
      "[CV] END .....................max_depth=5, n_estimators=1000; total time=   9.5s\n",
      "[CV] END .....................max_depth=5, n_estimators=1000; total time=   9.7s\n",
      "[CV] END .....................max_depth=5, n_estimators=1000; total time=   9.8s\n",
      "[CV] END ......................max_depth=10, n_estimators=10; total time=   0.1s\n",
      "[CV] END ......................max_depth=10, n_estimators=10; total time=   0.1s\n",
      "[CV] END ......................max_depth=10, n_estimators=10; total time=   0.1s\n",
      "[CV] END ......................max_depth=10, n_estimators=10; total time=   0.1s\n",
      "[CV] END ......................max_depth=10, n_estimators=10; total time=   0.1s\n",
      "[CV] END ......................max_depth=10, n_estimators=10; total time=   0.1s\n",
      "[CV] END ......................max_depth=10, n_estimators=10; total time=   0.1s\n",
      "[CV] END ......................max_depth=10, n_estimators=10; total time=   0.1s\n",
      "[CV] END ......................max_depth=10, n_estimators=10; total time=   0.1s\n",
      "[CV] END ......................max_depth=10, n_estimators=10; total time=   0.1s\n",
      "[CV] END .....................max_depth=10, n_estimators=100; total time=   1.5s\n",
      "[CV] END .....................max_depth=10, n_estimators=100; total time=   1.4s\n",
      "[CV] END .....................max_depth=10, n_estimators=100; total time=   1.4s\n",
      "[CV] END .....................max_depth=10, n_estimators=100; total time=   1.5s\n",
      "[CV] END .....................max_depth=10, n_estimators=100; total time=   1.5s\n",
      "[CV] END .....................max_depth=10, n_estimators=100; total time=   1.5s\n",
      "[CV] END .....................max_depth=10, n_estimators=100; total time=   1.4s\n",
      "[CV] END .....................max_depth=10, n_estimators=100; total time=   1.4s\n",
      "[CV] END .....................max_depth=10, n_estimators=100; total time=   1.5s\n",
      "[CV] END .....................max_depth=10, n_estimators=100; total time=   1.4s\n",
      "[CV] END ....................max_depth=10, n_estimators=1000; total time=  15.1s\n",
      "[CV] END ....................max_depth=10, n_estimators=1000; total time=  15.2s\n",
      "[CV] END ....................max_depth=10, n_estimators=1000; total time=  15.2s\n",
      "[CV] END ....................max_depth=10, n_estimators=1000; total time=  15.4s\n",
      "[CV] END ....................max_depth=10, n_estimators=1000; total time=  15.6s\n",
      "[CV] END ....................max_depth=10, n_estimators=1000; total time=  15.5s\n",
      "[CV] END ....................max_depth=10, n_estimators=1000; total time=  15.3s\n",
      "[CV] END ....................max_depth=10, n_estimators=1000; total time=  15.2s\n",
      "[CV] END ....................max_depth=10, n_estimators=1000; total time=  15.1s\n",
      "[CV] END ....................max_depth=10, n_estimators=1000; total time=  15.2s\n"
     ]
    },
    {
     "data": {
      "text/plain": [
       "GridSearchCV(cv=10, estimator=RandomForestClassifier(random_state=42),\n",
       "             param_grid=[{'max_depth': [1, 5, 10],\n",
       "                          'n_estimators': [10, 100, 1000]}],\n",
       "             scoring='accuracy', verbose=2)"
      ]
     },
     "execution_count": 42,
     "metadata": {},
     "output_type": "execute_result"
    }
   ],
   "source": [
    "from sklearn.model_selection import GridSearchCV\n",
    "\n",
    "params = [{'n_estimators': [10, 100, 1000],\n",
    "           'max_depth': [1, 5, 10]}\n",
    "         ]\n",
    "\n",
    "randomforestclf_gs = GridSearchCV(randomforestclf,\n",
    "                                  params,\n",
    "                                  scoring='accuracy',\n",
    "                                  cv=10,\n",
    "                                  verbose=2)\n",
    "randomforestclf_gs.fit(X_train, y_train)"
   ]
  },
  {
   "cell_type": "code",
   "execution_count": 43,
   "metadata": {},
   "outputs": [
    {
     "data": {
      "text/plain": [
       "{'max_depth': 10, 'n_estimators': 1000}"
      ]
     },
     "execution_count": 43,
     "metadata": {},
     "output_type": "execute_result"
    }
   ],
   "source": [
    "randomforestclf_gs.best_params_"
   ]
  },
  {
   "cell_type": "code",
   "execution_count": 44,
   "metadata": {},
   "outputs": [
    {
     "data": {
      "text/plain": [
       "0.8466449198362346"
      ]
     },
     "execution_count": 44,
     "metadata": {},
     "output_type": "execute_result"
    }
   ],
   "source": [
    "randomforestclf_gs.best_score_"
   ]
  },
  {
   "cell_type": "code",
   "execution_count": 45,
   "metadata": {},
   "outputs": [
    {
     "name": "stdout",
     "output_type": "stream",
     "text": [
      "학습용 데이터 정확도: 0.883\n",
      "평가용 데이터 정확도: 0.838\n"
     ]
    }
   ],
   "source": [
    "clf = randomforestclf_gs.best_estimator_\n",
    "print('학습용 데이터 정확도: %.3f' % clf.score(X_train, y_train))\n",
    "print('평가용 데이터 정확도: %.3f' % clf.score(X_test, y_test))"
   ]
  },
  {
   "cell_type": "code",
   "execution_count": 46,
   "metadata": {},
   "outputs": [],
   "source": [
    "y_pred = clf.predict(X_test)\n",
    "y_true = y_test"
   ]
  },
  {
   "cell_type": "code",
   "execution_count": 47,
   "metadata": {},
   "outputs": [],
   "source": [
    "X_test_df = pd.DataFrame(X_test)\n",
    "X_test_df.columns = ['wind_speed', 'atmospheric_temperature', 'atmospheric_pressure', 'area_temperature', 'wind_direction', 'x0_Extremely Low', 'x0_Low', 'x0_Medium']\n",
    "X_test_df['pred'] = y_pred\n",
    "X_test_df['true'] = np.array(y_true)"
   ]
  },
  {
   "cell_type": "code",
   "execution_count": 48,
   "metadata": {},
   "outputs": [
    {
     "data": {
      "text/html": [
       "<div>\n",
       "<style scoped>\n",
       "    .dataframe tbody tr th:only-of-type {\n",
       "        vertical-align: middle;\n",
       "    }\n",
       "\n",
       "    .dataframe tbody tr th {\n",
       "        vertical-align: top;\n",
       "    }\n",
       "\n",
       "    .dataframe thead th {\n",
       "        text-align: right;\n",
       "    }\n",
       "</style>\n",
       "<table border=\"1\" class=\"dataframe\">\n",
       "  <thead>\n",
       "    <tr style=\"text-align: right;\">\n",
       "      <th></th>\n",
       "      <th>wind_speed</th>\n",
       "      <th>atmospheric_temperature</th>\n",
       "      <th>atmospheric_pressure</th>\n",
       "      <th>area_temperature</th>\n",
       "      <th>wind_direction</th>\n",
       "      <th>x0_Extremely Low</th>\n",
       "      <th>x0_Low</th>\n",
       "      <th>x0_Medium</th>\n",
       "      <th>pred</th>\n",
       "      <th>true</th>\n",
       "    </tr>\n",
       "  </thead>\n",
       "  <tbody>\n",
       "    <tr>\n",
       "      <th>0</th>\n",
       "      <td>0.309808</td>\n",
       "      <td>0.336690</td>\n",
       "      <td>-0.173368</td>\n",
       "      <td>0.834158</td>\n",
       "      <td>-2.462627</td>\n",
       "      <td>0.0</td>\n",
       "      <td>1.0</td>\n",
       "      <td>0.0</td>\n",
       "      <td>1</td>\n",
       "      <td>1</td>\n",
       "    </tr>\n",
       "    <tr>\n",
       "      <th>1</th>\n",
       "      <td>-0.778540</td>\n",
       "      <td>0.068487</td>\n",
       "      <td>0.326189</td>\n",
       "      <td>-1.680104</td>\n",
       "      <td>-0.691470</td>\n",
       "      <td>0.0</td>\n",
       "      <td>1.0</td>\n",
       "      <td>0.0</td>\n",
       "      <td>0</td>\n",
       "      <td>0</td>\n",
       "    </tr>\n",
       "    <tr>\n",
       "      <th>2</th>\n",
       "      <td>0.331971</td>\n",
       "      <td>0.795416</td>\n",
       "      <td>1.856165</td>\n",
       "      <td>1.817646</td>\n",
       "      <td>-0.237095</td>\n",
       "      <td>0.0</td>\n",
       "      <td>1.0</td>\n",
       "      <td>0.0</td>\n",
       "      <td>1</td>\n",
       "      <td>0</td>\n",
       "    </tr>\n",
       "    <tr>\n",
       "      <th>3</th>\n",
       "      <td>0.345724</td>\n",
       "      <td>0.330294</td>\n",
       "      <td>-0.185271</td>\n",
       "      <td>0.900879</td>\n",
       "      <td>1.398216</td>\n",
       "      <td>1.0</td>\n",
       "      <td>0.0</td>\n",
       "      <td>0.0</td>\n",
       "      <td>0</td>\n",
       "      <td>0</td>\n",
       "    </tr>\n",
       "    <tr>\n",
       "      <th>4</th>\n",
       "      <td>0.320479</td>\n",
       "      <td>0.473489</td>\n",
       "      <td>-0.176046</td>\n",
       "      <td>0.167095</td>\n",
       "      <td>1.963229</td>\n",
       "      <td>0.0</td>\n",
       "      <td>1.0</td>\n",
       "      <td>0.0</td>\n",
       "      <td>1</td>\n",
       "      <td>1</td>\n",
       "    </tr>\n",
       "    <tr>\n",
       "      <th>...</th>\n",
       "      <td>...</td>\n",
       "      <td>...</td>\n",
       "      <td>...</td>\n",
       "      <td>...</td>\n",
       "      <td>...</td>\n",
       "      <td>...</td>\n",
       "      <td>...</td>\n",
       "      <td>...</td>\n",
       "      <td>...</td>\n",
       "      <td>...</td>\n",
       "    </tr>\n",
       "    <tr>\n",
       "      <th>8393</th>\n",
       "      <td>0.377860</td>\n",
       "      <td>0.634497</td>\n",
       "      <td>-0.185112</td>\n",
       "      <td>1.672845</td>\n",
       "      <td>0.632790</td>\n",
       "      <td>0.0</td>\n",
       "      <td>0.0</td>\n",
       "      <td>1.0</td>\n",
       "      <td>0</td>\n",
       "      <td>0</td>\n",
       "    </tr>\n",
       "    <tr>\n",
       "      <th>8394</th>\n",
       "      <td>0.371233</td>\n",
       "      <td>-2.422978</td>\n",
       "      <td>-0.182963</td>\n",
       "      <td>0.937706</td>\n",
       "      <td>1.327946</td>\n",
       "      <td>0.0</td>\n",
       "      <td>1.0</td>\n",
       "      <td>0.0</td>\n",
       "      <td>0</td>\n",
       "      <td>0</td>\n",
       "    </tr>\n",
       "    <tr>\n",
       "      <th>8395</th>\n",
       "      <td>0.359737</td>\n",
       "      <td>0.723926</td>\n",
       "      <td>-0.173383</td>\n",
       "      <td>1.768597</td>\n",
       "      <td>-0.237095</td>\n",
       "      <td>0.0</td>\n",
       "      <td>0.0</td>\n",
       "      <td>1.0</td>\n",
       "      <td>1</td>\n",
       "      <td>1</td>\n",
       "    </tr>\n",
       "    <tr>\n",
       "      <th>8396</th>\n",
       "      <td>-0.778458</td>\n",
       "      <td>0.173285</td>\n",
       "      <td>-0.176535</td>\n",
       "      <td>-0.176224</td>\n",
       "      <td>-0.044676</td>\n",
       "      <td>0.0</td>\n",
       "      <td>1.0</td>\n",
       "      <td>0.0</td>\n",
       "      <td>0</td>\n",
       "      <td>0</td>\n",
       "    </tr>\n",
       "    <tr>\n",
       "      <th>8397</th>\n",
       "      <td>0.344227</td>\n",
       "      <td>0.349577</td>\n",
       "      <td>-0.172551</td>\n",
       "      <td>0.471973</td>\n",
       "      <td>1.745108</td>\n",
       "      <td>0.0</td>\n",
       "      <td>1.0</td>\n",
       "      <td>0.0</td>\n",
       "      <td>1</td>\n",
       "      <td>1</td>\n",
       "    </tr>\n",
       "  </tbody>\n",
       "</table>\n",
       "<p>8398 rows × 10 columns</p>\n",
       "</div>"
      ],
      "text/plain": [
       "      wind_speed  atmospheric_temperature  atmospheric_pressure  \\\n",
       "0       0.309808                 0.336690             -0.173368   \n",
       "1      -0.778540                 0.068487              0.326189   \n",
       "2       0.331971                 0.795416              1.856165   \n",
       "3       0.345724                 0.330294             -0.185271   \n",
       "4       0.320479                 0.473489             -0.176046   \n",
       "...          ...                      ...                   ...   \n",
       "8393    0.377860                 0.634497             -0.185112   \n",
       "8394    0.371233                -2.422978             -0.182963   \n",
       "8395    0.359737                 0.723926             -0.173383   \n",
       "8396   -0.778458                 0.173285             -0.176535   \n",
       "8397    0.344227                 0.349577             -0.172551   \n",
       "\n",
       "      area_temperature  wind_direction  x0_Extremely Low  x0_Low  x0_Medium  \\\n",
       "0             0.834158       -2.462627               0.0     1.0        0.0   \n",
       "1            -1.680104       -0.691470               0.0     1.0        0.0   \n",
       "2             1.817646       -0.237095               0.0     1.0        0.0   \n",
       "3             0.900879        1.398216               1.0     0.0        0.0   \n",
       "4             0.167095        1.963229               0.0     1.0        0.0   \n",
       "...                ...             ...               ...     ...        ...   \n",
       "8393          1.672845        0.632790               0.0     0.0        1.0   \n",
       "8394          0.937706        1.327946               0.0     1.0        0.0   \n",
       "8395          1.768597       -0.237095               0.0     0.0        1.0   \n",
       "8396         -0.176224       -0.044676               0.0     1.0        0.0   \n",
       "8397          0.471973        1.745108               0.0     1.0        0.0   \n",
       "\n",
       "      pred  true  \n",
       "0        1     1  \n",
       "1        0     0  \n",
       "2        1     0  \n",
       "3        0     0  \n",
       "4        1     1  \n",
       "...    ...   ...  \n",
       "8393     0     0  \n",
       "8394     0     0  \n",
       "8395     1     1  \n",
       "8396     0     0  \n",
       "8397     1     1  \n",
       "\n",
       "[8398 rows x 10 columns]"
      ]
     },
     "execution_count": 48,
     "metadata": {},
     "output_type": "execute_result"
    }
   ],
   "source": [
    "X_test_df"
   ]
  },
  {
   "cell_type": "code",
   "execution_count": 49,
   "metadata": {},
   "outputs": [
    {
     "data": {
      "image/png": "[encoded data removed]",
      "text/plain": [
       "<Figure size 1008x864 with 6 Axes>"
      ]
     },
     "metadata": {
      "needs_background": "light"
     },
     "output_type": "display_data"
    }
   ],
   "source": [
    "fig, axs = plt.subplots(nrows=2, ncols = 3, figsize=(14,12))\n",
    "\n",
    "ax = sns.boxplot(x=\"pred\", y=\"wind_speed\", data=X_test_df, ax = axs[0,0])\n",
    "ax = sns.boxplot(x=\"pred\", y=\"atmospheric_temperature\", data=X_test_df, ax = axs[0,1])\n",
    "ax = sns.boxplot(x=\"pred\", y=\"atmospheric_pressure\", data=X_test_df, ax = axs[0,2])\n",
    "ax = sns.boxplot(x=\"pred\", y=\"area_temperature\", data=X_test_df, ax = axs[1,0])\n",
    "ax = sns.boxplot(x=\"pred\", y=\"wind_direction\", data=X_test_df, ax = axs[1,1])"
   ]
  },
  {
   "cell_type": "code",
   "execution_count": 50,
   "metadata": {},
   "outputs": [
    {
     "data": {
      "text/plain": [
       "array([[3518,  681],\n",
       "       [ 678, 3521]], dtype=int64)"
      ]
     },
     "execution_count": 50,
     "metadata": {},
     "output_type": "execute_result"
    }
   ],
   "source": [
    "from sklearn.metrics import confusion_matrix\n",
    "\n",
    "confusion_matrix(y_true, y_pred)"
   ]
  },
  {
   "cell_type": "code",
   "execution_count": 51,
   "metadata": {},
   "outputs": [
    {
     "data": {
      "image/png": "[encoded data removed]",
      "text/plain": [
       "<Figure size 432x288 with 2 Axes>"
      ]
     },
     "metadata": {
      "needs_background": "light"
     },
     "output_type": "display_data"
    }
   ],
   "source": [
    "from sklearn.metrics import ConfusionMatrixDisplay\n",
    "\n",
    "disp = ConfusionMatrixDisplay(confusion_matrix=confusion_matrix(y_true, y_pred),\n",
    "                              display_labels=['1', '0'])\n",
    "\n",
    "disp.plot()\n",
    "plt.show()"
   ]
  },
  {
   "cell_type": "code",
   "execution_count": 52,
   "metadata": {},
   "outputs": [
    {
     "name": "stdout",
     "output_type": "stream",
     "text": [
      "마크로 정밀도: 0.838\n"
     ]
    }
   ],
   "source": [
    "from sklearn.metrics import accuracy_score, recall_score, precision_score, f1_score\n",
    "\n",
    "print('마크로 정밀도: %.3f' % precision_score(y_true=y_test, y_pred=y_pred, average='macro'))"
   ]
  },
  {
   "cell_type": "code",
   "execution_count": 53,
   "metadata": {},
   "outputs": [
    {
     "name": "stdout",
     "output_type": "stream",
     "text": [
      "마크로 재현율: 0.838\n"
     ]
    }
   ],
   "source": [
    "print('마크로 재현율: %.3f' % recall_score(y_true=y_test, y_pred=y_pred, average='macro'))"
   ]
  },
  {
   "cell_type": "code",
   "execution_count": 54,
   "metadata": {},
   "outputs": [
    {
     "name": "stdout",
     "output_type": "stream",
     "text": [
      "마크로 평균 F1: 0.838\n"
     ]
    }
   ],
   "source": [
    "print('마크로 평균 F1: %.3f' % f1_score(y_true=y_test, y_pred=y_pred, average='macro'))"
   ]
  },
  {
   "cell_type": "code",
   "execution_count": 55,
   "metadata": {},
   "outputs": [
    {
     "name": "stdout",
     "output_type": "stream",
     "text": [
      "풍력 발전기 설치 적합 여부를 알아볼 지역을 입력하세요.\n",
      "영덕\n",
      "영덕 지역은 풍력 발전기 설치에 적합하지 않습니다.\n"
     ]
    },
    {
     "name": "stderr",
     "output_type": "stream",
     "text": [
      "C:\\Users\\ynk99\\anaconda3\\envs\\sunlight\\lib\\site-packages\\ipykernel_launcher.py:9: SettingWithCopyWarning: \n",
      "A value is trying to be set on a copy of a slice from a DataFrame\n",
      "\n",
      "See the caveats in the documentation: https://pandas.pydata.org/pandas-docs/stable/user_guide/indexing.html#returning-a-view-versus-a-copy\n",
      "  if __name__ == '__main__':\n"
     ]
    }
   ],
   "source": [
    "data = pd.read_csv(\"기상청데이터.csv\", encoding='cp949')\n",
    "\n",
    "region = input(\"풍력 발전기 설치 적합 여부를 알아볼 지역을 입력하세요.\\n\")\n",
    "\n",
    "df = data[data['지점명'] == region]\n",
    "\n",
    "df.columns = ['지점', '지점명', '일시', '기온', '풍속', '풍향', '현지기압', '최저운고', '지면온도']\n",
    "\n",
    "df.dropna(inplace = True)\n",
    "\n",
    "pred = pd.DataFrame()\n",
    "pred['wind_speed'] = [df['풍속'].mean()]\n",
    "pred['atmospheric_temperature'] = df['기온'].mean()\n",
    "pred['atmospheric_pressure'] = df['현지기압'].mean() * 100\n",
    "pred['area_temperature'] = df['지면온도'].mean()\n",
    "pred['wind_direction'] = df['풍향'].mean()\n",
    "\n",
    "if ((df['최저운고'].mean()*100) > 0 & (df['최저운고'].mean()*100 < 2000)):\n",
    "    pred['cloud_level'] = 'Extremely Low'\n",
    "elif ((df['최저운고'].mean()*100) >= (2000 & df['최저운고'].mean()*100)) < 6000:\n",
    "    pred['cloud_level'] = 'Low'\n",
    "else:\n",
    "    pred['cloud_level'] = 'Medium'\n",
    "    \n",
    "pred = ct.transform(pred)\n",
    "\n",
    "pred = randomforestclf.predict(pred)    # 부적합\n",
    "\n",
    "if int(pred) == 1:\n",
    "    print(\"{} 지역은 풍력 발전기 설치에 적합합니다.\".format(region))\n",
    "else:\n",
    "    print(\"{} 지역은 풍력 발전기 설치에 적합하지 않습니다.\".format(region))"
   ]
  },
  {
   "cell_type": "code",
   "execution_count": 58,
   "metadata": {},
   "outputs": [
    {
     "name": "stdout",
     "output_type": "stream",
     "text": [
      "풍력 발전기 설치 적합 여부를 알아볼 지역을 입력하세요.\n",
      "대구\n",
      "대구 지역은 풍력 발전기 설치에 적합하지 않습니다.\n"
     ]
    },
    {
     "name": "stderr",
     "output_type": "stream",
     "text": [
      "C:\\Users\\ynk99\\anaconda3\\envs\\sunlight\\lib\\site-packages\\ipykernel_launcher.py:9: SettingWithCopyWarning: \n",
      "A value is trying to be set on a copy of a slice from a DataFrame\n",
      "\n",
      "See the caveats in the documentation: https://pandas.pydata.org/pandas-docs/stable/user_guide/indexing.html#returning-a-view-versus-a-copy\n",
      "  if __name__ == '__main__':\n"
     ]
    }
   ],
   "source": [
    "data = pd.read_csv(\"기상청데이터.csv\", encoding='cp949')\n",
    "\n",
    "region = input(\"풍력 발전기 설치 적합 여부를 알아볼 지역을 입력하세요.\\n\")\n",
    "\n",
    "df = data[data['지점명'] == region]\n",
    "\n",
    "df.columns = ['지점', '지점명', '일시', '기온', '풍속', '풍향', '현지기압', '최저운고', '지면온도']\n",
    "\n",
    "df.dropna(inplace = True)\n",
    "\n",
    "pred = pd.DataFrame()\n",
    "pred['wind_speed'] = [df['풍속'].mean()]\n",
    "pred['atmospheric_temperature'] = df['기온'].mean()\n",
    "pred['atmospheric_pressure'] = df['현지기압'].mean() * 100\n",
    "pred['area_temperature'] = df['지면온도'].mean()\n",
    "pred['wind_direction'] = df['풍향'].mean()\n",
    "\n",
    "if ((df['최저운고'].mean()*100) > 0 & (df['최저운고'].mean()*100 < 2000)):\n",
    "    pred['cloud_level'] = 'Extremely Low'\n",
    "elif ((df['최저운고'].mean()*100) >= (2000 & df['최저운고'].mean()*100)) < 6000:\n",
    "    pred['cloud_level'] = 'Low'\n",
    "else:\n",
    "    pred['cloud_level'] = 'Medium'\n",
    "    \n",
    "pred = ct.transform(pred)\n",
    "\n",
    "pred = randomforestclf.predict(pred)    # 부적합\n",
    "\n",
    "if int(pred) == 1:\n",
    "    print(\"{} 지역은 풍력 발전기 설치에 적합합니다.\".format(region))\n",
    "else:\n",
    "    print(\"{} 지역은 풍력 발전기 설치에 적합하지 않습니다.\".format(region))"
   ]
  },
  {
   "cell_type": "code",
   "execution_count": null,
   "metadata": {},
   "outputs": [],
   "source": []
  }
 ],
 "metadata": {
  "kernelspec": {
   "display_name": "Python 3 (ipykernel)",
   "language": "python",
   "name": "python3"
  },
  "language_info": {
   "codemirror_mode": {
    "name": "ipython",
    "version": 3
   },
   "file_extension": ".py",
   "mimetype": "text/x-python",
   "name": "python",
   "nbconvert_exporter": "python",
   "pygments_lexer": "ipython3",
   "version": "3.9.12"
  }
 },
 "nbformat": 4,
 "nbformat_minor": 4
}
